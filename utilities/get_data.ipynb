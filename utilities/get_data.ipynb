{
 "cells": [
  {
   "cell_type": "code",
   "execution_count": null,
   "id": "8c158acb",
   "metadata": {},
   "outputs": [],
   "source": [
    "import sys\n",
    "sys.path.append('./')\n",
    "from Object import ExchangeDataManager"
   ]
  },
  {
   "cell_type": "markdown",
   "id": "0cc84fff",
   "metadata": {},
   "source": [
    "# Téléchargement de l'historique des données dans des CSV"
   ]
  },
  {
   "cell_type": "code",
   "execution_count": 2,
   "id": "0bd196fd",
   "metadata": {},
   "outputs": [
    {
     "name": "stdout",
     "output_type": "stream",
     "text": [
      "\tRécupération pour la paire BTC/USDT:USDT en timeframe 30m sur l'exchange binance...\n"
     ]
    },
    {
     "data": {
      "application/vnd.jupyter.widget-view+json": {
       "model_id": "1e5c1ba5725c4b8f850e2ba4c35cf12e",
       "version_major": 2,
       "version_minor": 0
      },
      "text/plain": [
       "  0%|          | 0/147 [00:00<?, ?it/s]"
      ]
     },
     "metadata": {},
     "output_type": "display_data"
    },
    {
     "name": "stdout",
     "output_type": "stream",
     "text": [
      "\u001b[H\u001b[J\tRécupération pour la paire ETH/USDT:USDT en timeframe 30m sur l'exchange binance...\n"
     ]
    },
    {
     "data": {
      "application/vnd.jupyter.widget-view+json": {
       "model_id": "4250a09ec49e447287356fa4a4b93211",
       "version_major": 2,
       "version_minor": 0
      },
      "text/plain": [
       "  0%|          | 0/147 [00:00<?, ?it/s]"
      ]
     },
     "metadata": {},
     "output_type": "display_data"
    },
    {
     "name": "stdout",
     "output_type": "stream",
     "text": [
      "\u001b[H\u001b[J\tRécupération pour la paire SOL/USDT:USDT en timeframe 30m sur l'exchange binance...\n"
     ]
    },
    {
     "data": {
      "application/vnd.jupyter.widget-view+json": {
       "model_id": "a17b573d7e704d03adefd14077e7113d",
       "version_major": 2,
       "version_minor": 0
      },
      "text/plain": [
       "  0%|          | 0/147 [00:00<?, ?it/s]"
      ]
     },
     "metadata": {},
     "output_type": "display_data"
    },
    {
     "name": "stdout",
     "output_type": "stream",
     "text": [
      "\u001b[H\u001b[J\tRécupération pour la paire BTC/USDT:USDT en timeframe 1h sur l'exchange binance...\n"
     ]
    },
    {
     "data": {
      "application/vnd.jupyter.widget-view+json": {
       "model_id": "9efe283df642452eb6d73ccd7ac96d3d",
       "version_major": 2,
       "version_minor": 0
      },
      "text/plain": [
       "  0%|          | 0/74 [00:00<?, ?it/s]"
      ]
     },
     "metadata": {},
     "output_type": "display_data"
    },
    {
     "name": "stdout",
     "output_type": "stream",
     "text": [
      "\u001b[H\u001b[J\tRécupération pour la paire ETH/USDT:USDT en timeframe 1h sur l'exchange binance...\n"
     ]
    },
    {
     "data": {
      "application/vnd.jupyter.widget-view+json": {
       "model_id": "579f7ab7fa684610b472ff7f79c9f993",
       "version_major": 2,
       "version_minor": 0
      },
      "text/plain": [
       "  0%|          | 0/74 [00:00<?, ?it/s]"
      ]
     },
     "metadata": {},
     "output_type": "display_data"
    },
    {
     "name": "stdout",
     "output_type": "stream",
     "text": [
      "\u001b[H\u001b[J\tRécupération pour la paire SOL/USDT:USDT en timeframe 1h sur l'exchange binance...\n"
     ]
    },
    {
     "data": {
      "application/vnd.jupyter.widget-view+json": {
       "model_id": "36308f868b0c4247aa64a9ba3ed29a6a",
       "version_major": 2,
       "version_minor": 0
      },
      "text/plain": [
       "  0%|          | 0/74 [00:00<?, ?it/s]"
      ]
     },
     "metadata": {},
     "output_type": "display_data"
    },
    {
     "name": "stdout",
     "output_type": "stream",
     "text": [
      "\u001b[H\u001b[J\tRécupération pour la paire BTC/USDT:USDT en timeframe 2h sur l'exchange binance...\n"
     ]
    },
    {
     "data": {
      "application/vnd.jupyter.widget-view+json": {
       "model_id": "78932e8c3deb40db9c3e698f53eaa91a",
       "version_major": 2,
       "version_minor": 0
      },
      "text/plain": [
       "  0%|          | 0/37 [00:00<?, ?it/s]"
      ]
     },
     "metadata": {},
     "output_type": "display_data"
    },
    {
     "name": "stdout",
     "output_type": "stream",
     "text": [
      "\u001b[H\u001b[J\tRécupération pour la paire ETH/USDT:USDT en timeframe 2h sur l'exchange binance...\n"
     ]
    },
    {
     "data": {
      "application/vnd.jupyter.widget-view+json": {
       "model_id": "781136863e884dd3ae2d930ff51eceb1",
       "version_major": 2,
       "version_minor": 0
      },
      "text/plain": [
       "  0%|          | 0/37 [00:00<?, ?it/s]"
      ]
     },
     "metadata": {},
     "output_type": "display_data"
    },
    {
     "name": "stdout",
     "output_type": "stream",
     "text": [
      "\u001b[H\u001b[J\tRécupération pour la paire SOL/USDT:USDT en timeframe 2h sur l'exchange binance...\n"
     ]
    },
    {
     "data": {
      "application/vnd.jupyter.widget-view+json": {
       "model_id": "e23ce2f12bb84c27a7c57deaf9b119b9",
       "version_major": 2,
       "version_minor": 0
      },
      "text/plain": [
       "  0%|          | 0/37 [00:00<?, ?it/s]"
      ]
     },
     "metadata": {},
     "output_type": "display_data"
    },
    {
     "name": "stdout",
     "output_type": "stream",
     "text": [
      "\u001b[H\u001b[J\tRécupération pour la paire BTC/USDT:USDT en timeframe 4h sur l'exchange binance...\n"
     ]
    },
    {
     "data": {
      "application/vnd.jupyter.widget-view+json": {
       "model_id": "891ea13b4c0347c997f6d2df34f209f9",
       "version_major": 2,
       "version_minor": 0
      },
      "text/plain": [
       "  0%|          | 0/19 [00:00<?, ?it/s]"
      ]
     },
     "metadata": {},
     "output_type": "display_data"
    },
    {
     "name": "stdout",
     "output_type": "stream",
     "text": [
      "\u001b[H\u001b[J\tRécupération pour la paire ETH/USDT:USDT en timeframe 4h sur l'exchange binance...\n"
     ]
    },
    {
     "data": {
      "application/vnd.jupyter.widget-view+json": {
       "model_id": "4be206d11f2f44948a6c713e1e4bcc4d",
       "version_major": 2,
       "version_minor": 0
      },
      "text/plain": [
       "  0%|          | 0/19 [00:00<?, ?it/s]"
      ]
     },
     "metadata": {},
     "output_type": "display_data"
    },
    {
     "name": "stdout",
     "output_type": "stream",
     "text": [
      "\u001b[H\u001b[J\tRécupération pour la paire SOL/USDT:USDT en timeframe 4h sur l'exchange binance...\n"
     ]
    },
    {
     "data": {
      "application/vnd.jupyter.widget-view+json": {
       "model_id": "5842794f86b642a3a07d3118da953891",
       "version_major": 2,
       "version_minor": 0
      },
      "text/plain": [
       "  0%|          | 0/19 [00:00<?, ?it/s]"
      ]
     },
     "metadata": {},
     "output_type": "display_data"
    },
    {
     "name": "stdout",
     "output_type": "stream",
     "text": [
      "\u001b[H\u001b[J\tRécupération pour la paire BTC/USDT:USDT en timeframe 12h sur l'exchange binance...\n"
     ]
    },
    {
     "data": {
      "application/vnd.jupyter.widget-view+json": {
       "model_id": "fdd671f7f2ff4d109cb7893632f8b261",
       "version_major": 2,
       "version_minor": 0
      },
      "text/plain": [
       "  0%|          | 0/7 [00:00<?, ?it/s]"
      ]
     },
     "metadata": {},
     "output_type": "display_data"
    },
    {
     "name": "stdout",
     "output_type": "stream",
     "text": [
      "\u001b[H\u001b[J\tRécupération pour la paire ETH/USDT:USDT en timeframe 12h sur l'exchange binance...\n"
     ]
    },
    {
     "data": {
      "application/vnd.jupyter.widget-view+json": {
       "model_id": "b24564ca26e04277b6a03a642d116c07",
       "version_major": 2,
       "version_minor": 0
      },
      "text/plain": [
       "  0%|          | 0/7 [00:00<?, ?it/s]"
      ]
     },
     "metadata": {},
     "output_type": "display_data"
    },
    {
     "name": "stdout",
     "output_type": "stream",
     "text": [
      "\u001b[H\u001b[J\tRécupération pour la paire SOL/USDT:USDT en timeframe 12h sur l'exchange binance...\n"
     ]
    },
    {
     "data": {
      "application/vnd.jupyter.widget-view+json": {
       "model_id": "5020e27868974a74aa98003f4c1789d3",
       "version_major": 2,
       "version_minor": 0
      },
      "text/plain": [
       "  0%|          | 0/7 [00:00<?, ?it/s]"
      ]
     },
     "metadata": {},
     "output_type": "display_data"
    },
    {
     "name": "stdout",
     "output_type": "stream",
     "text": [
      "\u001b[H\u001b[J\tRécupération pour la paire BTC/USDT:USDT en timeframe 1d sur l'exchange binance...\n"
     ]
    },
    {
     "data": {
      "application/vnd.jupyter.widget-view+json": {
       "model_id": "a46b35dd2ff240a2bea34b9cf9332473",
       "version_major": 2,
       "version_minor": 0
      },
      "text/plain": [
       "  0%|          | 0/4 [00:00<?, ?it/s]"
      ]
     },
     "metadata": {},
     "output_type": "display_data"
    },
    {
     "name": "stdout",
     "output_type": "stream",
     "text": [
      "\u001b[H\u001b[J\tRécupération pour la paire ETH/USDT:USDT en timeframe 1d sur l'exchange binance...\n"
     ]
    },
    {
     "data": {
      "application/vnd.jupyter.widget-view+json": {
       "model_id": "4324427f822c49758cd321ee6f723daa",
       "version_major": 2,
       "version_minor": 0
      },
      "text/plain": [
       "  0%|          | 0/4 [00:00<?, ?it/s]"
      ]
     },
     "metadata": {},
     "output_type": "display_data"
    },
    {
     "name": "stdout",
     "output_type": "stream",
     "text": [
      "\u001b[H\u001b[J\tRécupération pour la paire SOL/USDT:USDT en timeframe 1d sur l'exchange binance...\n"
     ]
    },
    {
     "data": {
      "application/vnd.jupyter.widget-view+json": {
       "model_id": "a1e0be05cfb241a2b3ebb5439d338625",
       "version_major": 2,
       "version_minor": 0
      },
      "text/plain": [
       "  0%|          | 0/4 [00:00<?, ?it/s]"
      ]
     },
     "metadata": {},
     "output_type": "display_data"
    },
    {
     "name": "stdout",
     "output_type": "stream",
     "text": [
      "\u001b[H\u001b[J\tRécupération pour la paire BTC/USDT:USDT en timeframe 1w sur l'exchange binance...\n"
     ]
    },
    {
     "data": {
      "application/vnd.jupyter.widget-view+json": {
       "model_id": "7eca575baf0548589709b8ef498a2eb4",
       "version_major": 2,
       "version_minor": 0
      },
      "text/plain": [
       "  0%|          | 0/1 [00:00<?, ?it/s]"
      ]
     },
     "metadata": {},
     "output_type": "display_data"
    },
    {
     "name": "stdout",
     "output_type": "stream",
     "text": [
      "\u001b[H\u001b[J\tRécupération pour la paire ETH/USDT:USDT en timeframe 1w sur l'exchange binance...\n"
     ]
    },
    {
     "data": {
      "application/vnd.jupyter.widget-view+json": {
       "model_id": "40721ef0b9364dc396364bc91e333b15",
       "version_major": 2,
       "version_minor": 0
      },
      "text/plain": [
       "  0%|          | 0/1 [00:00<?, ?it/s]"
      ]
     },
     "metadata": {},
     "output_type": "display_data"
    },
    {
     "name": "stdout",
     "output_type": "stream",
     "text": [
      "\u001b[H\u001b[J\tRécupération pour la paire SOL/USDT:USDT en timeframe 1w sur l'exchange binance...\n"
     ]
    },
    {
     "data": {
      "application/vnd.jupyter.widget-view+json": {
       "model_id": "bf846db959ff4623b248112e3b7ad1e6",
       "version_major": 2,
       "version_minor": 0
      },
      "text/plain": [
       "  0%|          | 0/1 [00:00<?, ?it/s]"
      ]
     },
     "metadata": {},
     "output_type": "display_data"
    },
    {
     "name": "stdout",
     "output_type": "stream",
     "text": [
      "\u001b[H\u001b[J"
     ]
    }
   ],
   "source": [
    "# exchange_name = \"bitget\"\n",
    "exchange_name = \"binance\"\n",
    "\n",
    "intervals = [\n",
    "    \"30m\", \n",
    "    \"1h\", \n",
    "    \"2h\", \n",
    "    \"4h\", \n",
    "    \"12h\", \n",
    "    \"1d\", \n",
    "    \"1w\"\n",
    "]\n",
    "\n",
    "coin_to_dl = [\n",
    "    \"BTC/USDT:USDT\",\n",
    "    \"ETH/USDT:USDT\",\n",
    "    \"SOL/USDT:USDT\",\n",
    "    # \"XRP/USDT:USDT\",\n",
    "    # \"LTC/USDT:USDT\",\n",
    "    # \"BNB/USDT:USDT\",\n",
    "    # \"DOGE/USDT:USDT\",\n",
    "    # \"FET/USDT:USDT\",\n",
    "    # \"NEAR/USDT:USDT\",\n",
    "    # \"TAO/USDT:USDT\",\n",
    "    # \"SUI/USDT:USDT\",\n",
    "    # \"PENDLE/USDT:USDT\",\n",
    "    # \"IO/USDT:USDT\",\n",
    "    # \"AVAX/USDT:USDT\",\n",
    "    # \"GLM/USDT:USDT\",\n",
    "    # \"FTM/USDT:USDT\"\n",
    "]\n",
    "\n",
    "exchange = ExchangeDataManager(\n",
    "    exchange_name=exchange_name, \n",
    "    path_download=\"./database\"\n",
    ")\n",
    "\n",
    "await exchange.download_data(\n",
    "    coins=coin_to_dl,\n",
    "    intervals=intervals,\n",
    ")"
   ]
  },
  {
   "cell_type": "code",
   "execution_count": 3,
   "id": "766d8c13",
   "metadata": {},
   "outputs": [
    {
     "name": "stdout",
     "output_type": "stream",
     "text": [
      "C:\\Users\\yfour\\OneDrive\\Documents\\cours_Ynov\\B3\\MoneyTime\\database\\binance\n",
      "C:\\Users\\yfour\\OneDrive\\Documents\\cours_Ynov\\B3\\MoneyTime\\database\\binance/1d/BTC-USDT-USDT.csv\n",
      "(2074, 5)\n"
     ]
    },
    {
     "data": {
      "text/html": [
       "<div>\n",
       "<style scoped>\n",
       "    .dataframe tbody tr th:only-of-type {\n",
       "        vertical-align: middle;\n",
       "    }\n",
       "\n",
       "    .dataframe tbody tr th {\n",
       "        vertical-align: top;\n",
       "    }\n",
       "\n",
       "    .dataframe thead th {\n",
       "        text-align: right;\n",
       "    }\n",
       "</style>\n",
       "<table border=\"1\" class=\"dataframe\">\n",
       "  <thead>\n",
       "    <tr style=\"text-align: right;\">\n",
       "      <th></th>\n",
       "      <th>open</th>\n",
       "      <th>high</th>\n",
       "      <th>low</th>\n",
       "      <th>close</th>\n",
       "      <th>volume</th>\n",
       "    </tr>\n",
       "    <tr>\n",
       "      <th>date</th>\n",
       "      <th></th>\n",
       "      <th></th>\n",
       "      <th></th>\n",
       "      <th></th>\n",
       "      <th></th>\n",
       "    </tr>\n",
       "  </thead>\n",
       "  <tbody>\n",
       "    <tr>\n",
       "      <th>2019-09-08</th>\n",
       "      <td>10000.00</td>\n",
       "      <td>10412.65</td>\n",
       "      <td>10000.00</td>\n",
       "      <td>10391.63</td>\n",
       "      <td>3096.291</td>\n",
       "    </tr>\n",
       "    <tr>\n",
       "      <th>2019-09-09</th>\n",
       "      <td>10316.62</td>\n",
       "      <td>10475.54</td>\n",
       "      <td>10077.22</td>\n",
       "      <td>10307.00</td>\n",
       "      <td>14824.373</td>\n",
       "    </tr>\n",
       "    <tr>\n",
       "      <th>2019-09-10</th>\n",
       "      <td>10307.00</td>\n",
       "      <td>10382.97</td>\n",
       "      <td>9940.87</td>\n",
       "      <td>10102.02</td>\n",
       "      <td>9068.955</td>\n",
       "    </tr>\n",
       "    <tr>\n",
       "      <th>2019-09-11</th>\n",
       "      <td>10094.27</td>\n",
       "      <td>10293.11</td>\n",
       "      <td>9884.31</td>\n",
       "      <td>10159.55</td>\n",
       "      <td>10897.922</td>\n",
       "    </tr>\n",
       "    <tr>\n",
       "      <th>2019-09-12</th>\n",
       "      <td>10163.06</td>\n",
       "      <td>10450.13</td>\n",
       "      <td>10042.12</td>\n",
       "      <td>10415.13</td>\n",
       "      <td>15609.634</td>\n",
       "    </tr>\n",
       "    <tr>\n",
       "      <th>...</th>\n",
       "      <td>...</td>\n",
       "      <td>...</td>\n",
       "      <td>...</td>\n",
       "      <td>...</td>\n",
       "      <td>...</td>\n",
       "    </tr>\n",
       "    <tr>\n",
       "      <th>2025-05-08</th>\n",
       "      <td>96988.40</td>\n",
       "      <td>104305.30</td>\n",
       "      <td>96831.50</td>\n",
       "      <td>103228.10</td>\n",
       "      <td>317422.469</td>\n",
       "    </tr>\n",
       "    <tr>\n",
       "      <th>2025-05-09</th>\n",
       "      <td>103228.00</td>\n",
       "      <td>104373.00</td>\n",
       "      <td>102240.00</td>\n",
       "      <td>102941.90</td>\n",
       "      <td>172883.922</td>\n",
       "    </tr>\n",
       "    <tr>\n",
       "      <th>2025-05-10</th>\n",
       "      <td>102941.90</td>\n",
       "      <td>105000.10</td>\n",
       "      <td>102784.00</td>\n",
       "      <td>104788.80</td>\n",
       "      <td>104384.537</td>\n",
       "    </tr>\n",
       "    <tr>\n",
       "      <th>2025-05-11</th>\n",
       "      <td>104788.80</td>\n",
       "      <td>104950.00</td>\n",
       "      <td>103283.30</td>\n",
       "      <td>104072.70</td>\n",
       "      <td>139136.421</td>\n",
       "    </tr>\n",
       "    <tr>\n",
       "      <th>2025-05-12</th>\n",
       "      <td>104072.70</td>\n",
       "      <td>105863.10</td>\n",
       "      <td>100678.00</td>\n",
       "      <td>102739.30</td>\n",
       "      <td>256542.699</td>\n",
       "    </tr>\n",
       "  </tbody>\n",
       "</table>\n",
       "<p>2074 rows × 5 columns</p>\n",
       "</div>"
      ],
      "text/plain": [
       "                 open       high        low      close      volume\n",
       "date                                                              \n",
       "2019-09-08   10000.00   10412.65   10000.00   10391.63    3096.291\n",
       "2019-09-09   10316.62   10475.54   10077.22   10307.00   14824.373\n",
       "2019-09-10   10307.00   10382.97    9940.87   10102.02    9068.955\n",
       "2019-09-11   10094.27   10293.11    9884.31   10159.55   10897.922\n",
       "2019-09-12   10163.06   10450.13   10042.12   10415.13   15609.634\n",
       "...               ...        ...        ...        ...         ...\n",
       "2025-05-08   96988.40  104305.30   96831.50  103228.10  317422.469\n",
       "2025-05-09  103228.00  104373.00  102240.00  102941.90  172883.922\n",
       "2025-05-10  102941.90  105000.10  102784.00  104788.80  104384.537\n",
       "2025-05-11  104788.80  104950.00  103283.30  104072.70  139136.421\n",
       "2025-05-12  104072.70  105863.10  100678.00  102739.30  256542.699\n",
       "\n",
       "[2074 rows x 5 columns]"
      ]
     },
     "execution_count": 3,
     "metadata": {},
     "output_type": "execute_result"
    }
   ],
   "source": [
    "df_btc_1h = exchange.load_data(\n",
    "    coin=\"BTC/USDT:USDT\", \n",
    "    interval=\"1d\"\n",
    ")\n",
    "\n",
    "print(df_btc_1h.shape)\n",
    "df_btc_1h"
   ]
  },
  {
   "cell_type": "code",
   "execution_count": 4,
   "id": "6541e3e3",
   "metadata": {},
   "outputs": [
    {
     "data": {
      "text/html": [
       "<div>\n",
       "<style scoped>\n",
       "    .dataframe tbody tr th:only-of-type {\n",
       "        vertical-align: middle;\n",
       "    }\n",
       "\n",
       "    .dataframe tbody tr th {\n",
       "        vertical-align: top;\n",
       "    }\n",
       "\n",
       "    .dataframe thead th {\n",
       "        text-align: right;\n",
       "    }\n",
       "</style>\n",
       "<table border=\"1\" class=\"dataframe\">\n",
       "  <thead>\n",
       "    <tr style=\"text-align: right;\">\n",
       "      <th></th>\n",
       "      <th>exchange</th>\n",
       "      <th>timeframe</th>\n",
       "      <th>pair</th>\n",
       "      <th>occurences</th>\n",
       "      <th>start_date</th>\n",
       "      <th>end_date</th>\n",
       "    </tr>\n",
       "  </thead>\n",
       "  <tbody>\n",
       "    <tr>\n",
       "      <th>0</th>\n",
       "      <td>binance</td>\n",
       "      <td>12h</td>\n",
       "      <td>BTC-USDT-USDT</td>\n",
       "      <td>4149</td>\n",
       "      <td>2019-09-08 14:00:00</td>\n",
       "      <td>2025-05-13 14:00:00</td>\n",
       "    </tr>\n",
       "    <tr>\n",
       "      <th>1</th>\n",
       "      <td>binance</td>\n",
       "      <td>12h</td>\n",
       "      <td>ETH-USDT-USDT</td>\n",
       "      <td>3990</td>\n",
       "      <td>2019-11-27 01:00:00</td>\n",
       "      <td>2025-05-13 14:00:00</td>\n",
       "    </tr>\n",
       "    <tr>\n",
       "      <th>2</th>\n",
       "      <td>binance</td>\n",
       "      <td>12h</td>\n",
       "      <td>SOL-USDT-USDT</td>\n",
       "      <td>3406</td>\n",
       "      <td>2020-09-14 02:00:00</td>\n",
       "      <td>2025-05-13 14:00:00</td>\n",
       "    </tr>\n",
       "    <tr>\n",
       "      <th>3</th>\n",
       "      <td>binance</td>\n",
       "      <td>1d</td>\n",
       "      <td>BTC-USDT-USDT</td>\n",
       "      <td>2075</td>\n",
       "      <td>2019-09-08 02:00:00</td>\n",
       "      <td>2025-05-13 02:00:00</td>\n",
       "    </tr>\n",
       "    <tr>\n",
       "      <th>4</th>\n",
       "      <td>binance</td>\n",
       "      <td>1d</td>\n",
       "      <td>ETH-USDT-USDT</td>\n",
       "      <td>1995</td>\n",
       "      <td>2019-11-27 01:00:00</td>\n",
       "      <td>2025-05-13 02:00:00</td>\n",
       "    </tr>\n",
       "    <tr>\n",
       "      <th>5</th>\n",
       "      <td>binance</td>\n",
       "      <td>1d</td>\n",
       "      <td>SOL-USDT-USDT</td>\n",
       "      <td>1703</td>\n",
       "      <td>2020-09-14 02:00:00</td>\n",
       "      <td>2025-05-13 02:00:00</td>\n",
       "    </tr>\n",
       "    <tr>\n",
       "      <th>6</th>\n",
       "      <td>binance</td>\n",
       "      <td>1h</td>\n",
       "      <td>BTC-USDT-USDT</td>\n",
       "      <td>49772</td>\n",
       "      <td>2019-09-08 19:00:00</td>\n",
       "      <td>2025-05-13 14:00:00</td>\n",
       "    </tr>\n",
       "    <tr>\n",
       "      <th>7</th>\n",
       "      <td>binance</td>\n",
       "      <td>1h</td>\n",
       "      <td>ETH-USDT-USDT</td>\n",
       "      <td>47862</td>\n",
       "      <td>2019-11-27 08:00:00</td>\n",
       "      <td>2025-05-13 14:00:00</td>\n",
       "    </tr>\n",
       "    <tr>\n",
       "      <th>8</th>\n",
       "      <td>binance</td>\n",
       "      <td>1h</td>\n",
       "      <td>SOL-USDT-USDT</td>\n",
       "      <td>40854</td>\n",
       "      <td>2020-09-14 09:00:00</td>\n",
       "      <td>2025-05-13 14:00:00</td>\n",
       "    </tr>\n",
       "    <tr>\n",
       "      <th>9</th>\n",
       "      <td>binance</td>\n",
       "      <td>1w</td>\n",
       "      <td>BTC-USDT-USDT</td>\n",
       "      <td>298</td>\n",
       "      <td>2019-09-02 02:00:00</td>\n",
       "      <td>2025-05-12 02:00:00</td>\n",
       "    </tr>\n",
       "    <tr>\n",
       "      <th>10</th>\n",
       "      <td>binance</td>\n",
       "      <td>1w</td>\n",
       "      <td>ETH-USDT-USDT</td>\n",
       "      <td>286</td>\n",
       "      <td>2019-11-25 01:00:00</td>\n",
       "      <td>2025-05-12 02:00:00</td>\n",
       "    </tr>\n",
       "    <tr>\n",
       "      <th>11</th>\n",
       "      <td>binance</td>\n",
       "      <td>1w</td>\n",
       "      <td>SOL-USDT-USDT</td>\n",
       "      <td>244</td>\n",
       "      <td>2020-09-14 02:00:00</td>\n",
       "      <td>2025-05-12 02:00:00</td>\n",
       "    </tr>\n",
       "    <tr>\n",
       "      <th>12</th>\n",
       "      <td>binance</td>\n",
       "      <td>2h</td>\n",
       "      <td>BTC-USDT-USDT</td>\n",
       "      <td>24887</td>\n",
       "      <td>2019-09-08 18:00:00</td>\n",
       "      <td>2025-05-13 14:00:00</td>\n",
       "    </tr>\n",
       "    <tr>\n",
       "      <th>13</th>\n",
       "      <td>binance</td>\n",
       "      <td>2h</td>\n",
       "      <td>ETH-USDT-USDT</td>\n",
       "      <td>23932</td>\n",
       "      <td>2019-11-27 07:00:00</td>\n",
       "      <td>2025-05-13 14:00:00</td>\n",
       "    </tr>\n",
       "    <tr>\n",
       "      <th>14</th>\n",
       "      <td>binance</td>\n",
       "      <td>2h</td>\n",
       "      <td>SOL-USDT-USDT</td>\n",
       "      <td>20428</td>\n",
       "      <td>2020-09-14 08:00:00</td>\n",
       "      <td>2025-05-13 14:00:00</td>\n",
       "    </tr>\n",
       "    <tr>\n",
       "      <th>15</th>\n",
       "      <td>binance</td>\n",
       "      <td>30m</td>\n",
       "      <td>BTC-USDT-USDT</td>\n",
       "      <td>99543</td>\n",
       "      <td>2019-09-08 19:30:00</td>\n",
       "      <td>2025-05-13 14:30:00</td>\n",
       "    </tr>\n",
       "    <tr>\n",
       "      <th>16</th>\n",
       "      <td>binance</td>\n",
       "      <td>30m</td>\n",
       "      <td>ETH-USDT-USDT</td>\n",
       "      <td>95723</td>\n",
       "      <td>2019-11-27 08:30:00</td>\n",
       "      <td>2025-05-13 14:30:00</td>\n",
       "    </tr>\n",
       "    <tr>\n",
       "      <th>17</th>\n",
       "      <td>binance</td>\n",
       "      <td>30m</td>\n",
       "      <td>SOL-USDT-USDT</td>\n",
       "      <td>81708</td>\n",
       "      <td>2020-09-14 09:00:00</td>\n",
       "      <td>2025-05-13 14:30:00</td>\n",
       "    </tr>\n",
       "    <tr>\n",
       "      <th>18</th>\n",
       "      <td>binance</td>\n",
       "      <td>4h</td>\n",
       "      <td>BTC-USDT-USDT</td>\n",
       "      <td>12444</td>\n",
       "      <td>2019-09-08 18:00:00</td>\n",
       "      <td>2025-05-13 14:00:00</td>\n",
       "    </tr>\n",
       "    <tr>\n",
       "      <th>19</th>\n",
       "      <td>binance</td>\n",
       "      <td>4h</td>\n",
       "      <td>ETH-USDT-USDT</td>\n",
       "      <td>11967</td>\n",
       "      <td>2019-11-27 05:00:00</td>\n",
       "      <td>2025-05-13 14:00:00</td>\n",
       "    </tr>\n",
       "    <tr>\n",
       "      <th>20</th>\n",
       "      <td>binance</td>\n",
       "      <td>4h</td>\n",
       "      <td>SOL-USDT-USDT</td>\n",
       "      <td>10215</td>\n",
       "      <td>2020-09-14 06:00:00</td>\n",
       "      <td>2025-05-13 14:00:00</td>\n",
       "    </tr>\n",
       "  </tbody>\n",
       "</table>\n",
       "</div>"
      ],
      "text/plain": [
       "   exchange timeframe           pair  occurences           start_date  \\\n",
       "0   binance       12h  BTC-USDT-USDT        4149  2019-09-08 14:00:00   \n",
       "1   binance       12h  ETH-USDT-USDT        3990  2019-11-27 01:00:00   \n",
       "2   binance       12h  SOL-USDT-USDT        3406  2020-09-14 02:00:00   \n",
       "3   binance        1d  BTC-USDT-USDT        2075  2019-09-08 02:00:00   \n",
       "4   binance        1d  ETH-USDT-USDT        1995  2019-11-27 01:00:00   \n",
       "5   binance        1d  SOL-USDT-USDT        1703  2020-09-14 02:00:00   \n",
       "6   binance        1h  BTC-USDT-USDT       49772  2019-09-08 19:00:00   \n",
       "7   binance        1h  ETH-USDT-USDT       47862  2019-11-27 08:00:00   \n",
       "8   binance        1h  SOL-USDT-USDT       40854  2020-09-14 09:00:00   \n",
       "9   binance        1w  BTC-USDT-USDT         298  2019-09-02 02:00:00   \n",
       "10  binance        1w  ETH-USDT-USDT         286  2019-11-25 01:00:00   \n",
       "11  binance        1w  SOL-USDT-USDT         244  2020-09-14 02:00:00   \n",
       "12  binance        2h  BTC-USDT-USDT       24887  2019-09-08 18:00:00   \n",
       "13  binance        2h  ETH-USDT-USDT       23932  2019-11-27 07:00:00   \n",
       "14  binance        2h  SOL-USDT-USDT       20428  2020-09-14 08:00:00   \n",
       "15  binance       30m  BTC-USDT-USDT       99543  2019-09-08 19:30:00   \n",
       "16  binance       30m  ETH-USDT-USDT       95723  2019-11-27 08:30:00   \n",
       "17  binance       30m  SOL-USDT-USDT       81708  2020-09-14 09:00:00   \n",
       "18  binance        4h  BTC-USDT-USDT       12444  2019-09-08 18:00:00   \n",
       "19  binance        4h  ETH-USDT-USDT       11967  2019-11-27 05:00:00   \n",
       "20  binance        4h  SOL-USDT-USDT       10215  2020-09-14 06:00:00   \n",
       "\n",
       "               end_date  \n",
       "0   2025-05-13 14:00:00  \n",
       "1   2025-05-13 14:00:00  \n",
       "2   2025-05-13 14:00:00  \n",
       "3   2025-05-13 02:00:00  \n",
       "4   2025-05-13 02:00:00  \n",
       "5   2025-05-13 02:00:00  \n",
       "6   2025-05-13 14:00:00  \n",
       "7   2025-05-13 14:00:00  \n",
       "8   2025-05-13 14:00:00  \n",
       "9   2025-05-12 02:00:00  \n",
       "10  2025-05-12 02:00:00  \n",
       "11  2025-05-12 02:00:00  \n",
       "12  2025-05-13 14:00:00  \n",
       "13  2025-05-13 14:00:00  \n",
       "14  2025-05-13 14:00:00  \n",
       "15  2025-05-13 14:30:00  \n",
       "16  2025-05-13 14:30:00  \n",
       "17  2025-05-13 14:30:00  \n",
       "18  2025-05-13 14:00:00  \n",
       "19  2025-05-13 14:00:00  \n",
       "20  2025-05-13 14:00:00  "
      ]
     },
     "execution_count": 4,
     "metadata": {},
     "output_type": "execute_result"
    }
   ],
   "source": [
    "exchange.explore_data()"
   ]
  }
 ],
 "metadata": {
  "kernelspec": {
   "display_name": "MoneyTime",
   "language": "python",
   "name": "python3"
  },
  "language_info": {
   "codemirror_mode": {
    "name": "ipython",
    "version": 3
   },
   "file_extension": ".py",
   "mimetype": "text/x-python",
   "name": "python",
   "nbconvert_exporter": "python",
   "pygments_lexer": "ipython3",
   "version": "3.11.4"
  }
 },
 "nbformat": 4,
 "nbformat_minor": 5
}
