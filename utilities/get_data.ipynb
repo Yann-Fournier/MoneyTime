{
 "cells": [
  {
   "cell_type": "code",
   "id": "8c158acb",
   "metadata": {
    "ExecuteTime": {
     "end_time": "2025-06-06T07:39:21.849929Z",
     "start_time": "2025-06-06T07:39:19.001832Z"
    }
   },
   "source": [
    "import sys\n",
    "sys.path.append('./')\n",
    "from Object import ExchangeDataManager"
   ],
   "outputs": [],
   "execution_count": 1
  },
  {
   "cell_type": "markdown",
   "id": "0cc84fff",
   "metadata": {},
   "source": [
    "# Téléchargement de l'historique des données dans des CSV"
   ]
  },
  {
   "cell_type": "code",
   "id": "0bd196fd",
   "metadata": {
    "ExecuteTime": {
     "end_time": "2025-06-06T07:43:27.890461Z",
     "start_time": "2025-06-06T07:39:21.865017Z"
    }
   },
   "source": [
    "# exchange_name = \"bitget\"\n",
    "exchange_name = \"binance\"\n",
    "\n",
    "intervals = [\n",
    "    \"30m\", \n",
    "    \"1h\", \n",
    "    \"2h\", \n",
    "    \"4h\", \n",
    "    \"12h\", \n",
    "    \"1d\", \n",
    "    \"1w\"\n",
    "]\n",
    "\n",
    "coin_to_dl = [\n",
    "    \"BTC/USDT:USDT\",\n",
    "    \"ETH/USDT:USDT\",\n",
    "    \"SOL/USDT:USDT\",\n",
    "    # \"XRP/USDT:USDT\",\n",
    "    # \"LTC/USDT:USDT\",\n",
    "    # \"BNB/USDT:USDT\",\n",
    "    # \"DOGE/USDT:USDT\",\n",
    "    # \"FET/USDT:USDT\",\n",
    "    # \"NEAR/USDT:USDT\",\n",
    "    # \"TAO/USDT:USDT\",\n",
    "    # \"SUI/USDT:USDT\",\n",
    "    # \"PENDLE/USDT:USDT\",\n",
    "    # \"IO/USDT:USDT\",\n",
    "    # \"AVAX/USDT:USDT\",\n",
    "    # \"GLM/USDT:USDT\",\n",
    "    # \"FTM/USDT:USDT\"\n",
    "]\n",
    "\n",
    "exchange = ExchangeDataManager(\n",
    "    exchange_name=exchange_name, \n",
    "    path_download=\"./database\"\n",
    ")\n",
    "\n",
    "await exchange.download_data(\n",
    "    coins=coin_to_dl,\n",
    "    intervals=intervals,\n",
    ")"
   ],
   "outputs": [
    {
     "name": "stdout",
     "output_type": "stream",
     "text": [
      "\tRécupération pour la paire BTC/USDT:USDT en timeframe 30m sur l'exchange binance...\n"
     ]
    },
    {
     "data": {
      "text/plain": [
       "  0%|          | 0/148 [00:00<?, ?it/s]"
      ],
      "application/vnd.jupyter.widget-view+json": {
       "version_major": 2,
       "version_minor": 0,
       "model_id": "51e8dd17d02e4514a194b964bf8396be"
      }
     },
     "metadata": {},
     "output_type": "display_data"
    },
    {
     "name": "stdout",
     "output_type": "stream",
     "text": [
      "\u001B[H\u001B[J\tRécupération pour la paire ETH/USDT:USDT en timeframe 30m sur l'exchange binance...\n"
     ]
    },
    {
     "data": {
      "text/plain": [
       "  0%|          | 0/148 [00:00<?, ?it/s]"
      ],
      "application/vnd.jupyter.widget-view+json": {
       "version_major": 2,
       "version_minor": 0,
       "model_id": "c417ccbbf8c141e68c215f9908ad0d5f"
      }
     },
     "metadata": {},
     "output_type": "display_data"
    },
    {
     "name": "stdout",
     "output_type": "stream",
     "text": [
      "\u001B[H\u001B[J\tRécupération pour la paire SOL/USDT:USDT en timeframe 30m sur l'exchange binance...\n"
     ]
    },
    {
     "data": {
      "text/plain": [
       "  0%|          | 0/148 [00:00<?, ?it/s]"
      ],
      "application/vnd.jupyter.widget-view+json": {
       "version_major": 2,
       "version_minor": 0,
       "model_id": "0ff8c0f6df8f4ebc90b65c14fc60f181"
      }
     },
     "metadata": {},
     "output_type": "display_data"
    },
    {
     "name": "stdout",
     "output_type": "stream",
     "text": [
      "\u001B[H\u001B[J\tRécupération pour la paire BTC/USDT:USDT en timeframe 1h sur l'exchange binance...\n"
     ]
    },
    {
     "data": {
      "text/plain": [
       "  0%|          | 0/74 [00:00<?, ?it/s]"
      ],
      "application/vnd.jupyter.widget-view+json": {
       "version_major": 2,
       "version_minor": 0,
       "model_id": "aaa4fa6199474abaa3a47a06864cd49e"
      }
     },
     "metadata": {},
     "output_type": "display_data"
    },
    {
     "name": "stdout",
     "output_type": "stream",
     "text": [
      "\u001B[H\u001B[J\tRécupération pour la paire ETH/USDT:USDT en timeframe 1h sur l'exchange binance...\n"
     ]
    },
    {
     "data": {
      "text/plain": [
       "  0%|          | 0/74 [00:00<?, ?it/s]"
      ],
      "application/vnd.jupyter.widget-view+json": {
       "version_major": 2,
       "version_minor": 0,
       "model_id": "12c9f59414b44b17861a7219001943d1"
      }
     },
     "metadata": {},
     "output_type": "display_data"
    },
    {
     "name": "stdout",
     "output_type": "stream",
     "text": [
      "\u001B[H\u001B[J\tRécupération pour la paire SOL/USDT:USDT en timeframe 1h sur l'exchange binance...\n"
     ]
    },
    {
     "data": {
      "text/plain": [
       "  0%|          | 0/74 [00:00<?, ?it/s]"
      ],
      "application/vnd.jupyter.widget-view+json": {
       "version_major": 2,
       "version_minor": 0,
       "model_id": "e970208b68ab4bada87682dc7aa90519"
      }
     },
     "metadata": {},
     "output_type": "display_data"
    },
    {
     "name": "stdout",
     "output_type": "stream",
     "text": [
      "\u001B[H\u001B[J\tRécupération pour la paire BTC/USDT:USDT en timeframe 2h sur l'exchange binance...\n"
     ]
    },
    {
     "data": {
      "text/plain": [
       "  0%|          | 0/37 [00:00<?, ?it/s]"
      ],
      "application/vnd.jupyter.widget-view+json": {
       "version_major": 2,
       "version_minor": 0,
       "model_id": "9c7f87178db649f5b2fb549be7e620e7"
      }
     },
     "metadata": {},
     "output_type": "display_data"
    },
    {
     "name": "stdout",
     "output_type": "stream",
     "text": [
      "\u001B[H\u001B[J\tRécupération pour la paire ETH/USDT:USDT en timeframe 2h sur l'exchange binance...\n"
     ]
    },
    {
     "data": {
      "text/plain": [
       "  0%|          | 0/37 [00:00<?, ?it/s]"
      ],
      "application/vnd.jupyter.widget-view+json": {
       "version_major": 2,
       "version_minor": 0,
       "model_id": "b132dcad78764c81a04c9abc0a5b763d"
      }
     },
     "metadata": {},
     "output_type": "display_data"
    },
    {
     "name": "stdout",
     "output_type": "stream",
     "text": [
      "\u001B[H\u001B[J\tRécupération pour la paire SOL/USDT:USDT en timeframe 2h sur l'exchange binance...\n"
     ]
    },
    {
     "data": {
      "text/plain": [
       "  0%|          | 0/37 [00:00<?, ?it/s]"
      ],
      "application/vnd.jupyter.widget-view+json": {
       "version_major": 2,
       "version_minor": 0,
       "model_id": "7a006ffb778c45c586bdb106002bb96d"
      }
     },
     "metadata": {},
     "output_type": "display_data"
    },
    {
     "name": "stdout",
     "output_type": "stream",
     "text": [
      "\u001B[H\u001B[J\tRécupération pour la paire BTC/USDT:USDT en timeframe 4h sur l'exchange binance...\n"
     ]
    },
    {
     "data": {
      "text/plain": [
       "  0%|          | 0/19 [00:00<?, ?it/s]"
      ],
      "application/vnd.jupyter.widget-view+json": {
       "version_major": 2,
       "version_minor": 0,
       "model_id": "8ab8ade3feec4933ab5b00d8656db57d"
      }
     },
     "metadata": {},
     "output_type": "display_data"
    },
    {
     "name": "stdout",
     "output_type": "stream",
     "text": [
      "\u001B[H\u001B[J\tRécupération pour la paire ETH/USDT:USDT en timeframe 4h sur l'exchange binance...\n"
     ]
    },
    {
     "data": {
      "text/plain": [
       "  0%|          | 0/19 [00:00<?, ?it/s]"
      ],
      "application/vnd.jupyter.widget-view+json": {
       "version_major": 2,
       "version_minor": 0,
       "model_id": "3591fc0d56fc40e28ec33a88bc360196"
      }
     },
     "metadata": {},
     "output_type": "display_data"
    },
    {
     "name": "stdout",
     "output_type": "stream",
     "text": [
      "\u001B[H\u001B[J\tRécupération pour la paire SOL/USDT:USDT en timeframe 4h sur l'exchange binance...\n"
     ]
    },
    {
     "data": {
      "text/plain": [
       "  0%|          | 0/19 [00:00<?, ?it/s]"
      ],
      "application/vnd.jupyter.widget-view+json": {
       "version_major": 2,
       "version_minor": 0,
       "model_id": "4d1859b4761c4065a240f5f8ceae9f5c"
      }
     },
     "metadata": {},
     "output_type": "display_data"
    },
    {
     "name": "stdout",
     "output_type": "stream",
     "text": [
      "\u001B[H\u001B[J\tRécupération pour la paire BTC/USDT:USDT en timeframe 12h sur l'exchange binance...\n"
     ]
    },
    {
     "data": {
      "text/plain": [
       "  0%|          | 0/7 [00:00<?, ?it/s]"
      ],
      "application/vnd.jupyter.widget-view+json": {
       "version_major": 2,
       "version_minor": 0,
       "model_id": "beb4715224054c94872b9afad82fa947"
      }
     },
     "metadata": {},
     "output_type": "display_data"
    },
    {
     "name": "stdout",
     "output_type": "stream",
     "text": [
      "\u001B[H\u001B[J\tRécupération pour la paire ETH/USDT:USDT en timeframe 12h sur l'exchange binance...\n"
     ]
    },
    {
     "data": {
      "text/plain": [
       "  0%|          | 0/7 [00:00<?, ?it/s]"
      ],
      "application/vnd.jupyter.widget-view+json": {
       "version_major": 2,
       "version_minor": 0,
       "model_id": "101256140d684a349b1a59b74e404f57"
      }
     },
     "metadata": {},
     "output_type": "display_data"
    },
    {
     "name": "stdout",
     "output_type": "stream",
     "text": [
      "\u001B[H\u001B[J\tRécupération pour la paire SOL/USDT:USDT en timeframe 12h sur l'exchange binance...\n"
     ]
    },
    {
     "data": {
      "text/plain": [
       "  0%|          | 0/7 [00:00<?, ?it/s]"
      ],
      "application/vnd.jupyter.widget-view+json": {
       "version_major": 2,
       "version_minor": 0,
       "model_id": "a1b92d7e7a5a433584f959273b4e8a07"
      }
     },
     "metadata": {},
     "output_type": "display_data"
    },
    {
     "name": "stdout",
     "output_type": "stream",
     "text": [
      "\u001B[H\u001B[J\tRécupération pour la paire BTC/USDT:USDT en timeframe 1d sur l'exchange binance...\n"
     ]
    },
    {
     "data": {
      "text/plain": [
       "  0%|          | 0/4 [00:00<?, ?it/s]"
      ],
      "application/vnd.jupyter.widget-view+json": {
       "version_major": 2,
       "version_minor": 0,
       "model_id": "831d97414e4c449b91c8872638a9e92d"
      }
     },
     "metadata": {},
     "output_type": "display_data"
    },
    {
     "name": "stdout",
     "output_type": "stream",
     "text": [
      "\u001B[H\u001B[J\tRécupération pour la paire ETH/USDT:USDT en timeframe 1d sur l'exchange binance...\n"
     ]
    },
    {
     "data": {
      "text/plain": [
       "  0%|          | 0/4 [00:00<?, ?it/s]"
      ],
      "application/vnd.jupyter.widget-view+json": {
       "version_major": 2,
       "version_minor": 0,
       "model_id": "390a3e3487f14da986ffd96045eefc52"
      }
     },
     "metadata": {},
     "output_type": "display_data"
    },
    {
     "name": "stdout",
     "output_type": "stream",
     "text": [
      "\u001B[H\u001B[J\tRécupération pour la paire SOL/USDT:USDT en timeframe 1d sur l'exchange binance...\n"
     ]
    },
    {
     "data": {
      "text/plain": [
       "  0%|          | 0/4 [00:00<?, ?it/s]"
      ],
      "application/vnd.jupyter.widget-view+json": {
       "version_major": 2,
       "version_minor": 0,
       "model_id": "10649fa7acc240f4af9a721b488683c6"
      }
     },
     "metadata": {},
     "output_type": "display_data"
    },
    {
     "name": "stdout",
     "output_type": "stream",
     "text": [
      "\u001B[H\u001B[J\tRécupération pour la paire BTC/USDT:USDT en timeframe 1w sur l'exchange binance...\n"
     ]
    },
    {
     "data": {
      "text/plain": [
       "  0%|          | 0/1 [00:00<?, ?it/s]"
      ],
      "application/vnd.jupyter.widget-view+json": {
       "version_major": 2,
       "version_minor": 0,
       "model_id": "1131c5a4625b4592859853ee916782ef"
      }
     },
     "metadata": {},
     "output_type": "display_data"
    },
    {
     "name": "stdout",
     "output_type": "stream",
     "text": [
      "\u001B[H\u001B[J\tRécupération pour la paire ETH/USDT:USDT en timeframe 1w sur l'exchange binance...\n"
     ]
    },
    {
     "data": {
      "text/plain": [
       "  0%|          | 0/1 [00:00<?, ?it/s]"
      ],
      "application/vnd.jupyter.widget-view+json": {
       "version_major": 2,
       "version_minor": 0,
       "model_id": "498cf5e5f4fc498198174464249521a8"
      }
     },
     "metadata": {},
     "output_type": "display_data"
    },
    {
     "name": "stdout",
     "output_type": "stream",
     "text": [
      "\u001B[H\u001B[J\tRécupération pour la paire SOL/USDT:USDT en timeframe 1w sur l'exchange binance...\n"
     ]
    },
    {
     "data": {
      "text/plain": [
       "  0%|          | 0/1 [00:00<?, ?it/s]"
      ],
      "application/vnd.jupyter.widget-view+json": {
       "version_major": 2,
       "version_minor": 0,
       "model_id": "ceb4f5fbb5a54448a6a019814f0b5a48"
      }
     },
     "metadata": {},
     "output_type": "display_data"
    },
    {
     "name": "stdout",
     "output_type": "stream",
     "text": [
      "\u001B[H\u001B[J"
     ]
    }
   ],
   "execution_count": 2
  },
  {
   "cell_type": "code",
   "id": "766d8c13",
   "metadata": {
    "ExecuteTime": {
     "end_time": "2025-06-06T07:43:29.014583Z",
     "start_time": "2025-06-06T07:43:28.948466Z"
    }
   },
   "source": [
    "df_btc_1h = exchange.load_data(\n",
    "    coin=\"BTC/USDT:USDT\", \n",
    "    interval=\"1d\"\n",
    ")\n",
    "\n",
    "print(df_btc_1h.shape)\n",
    "df_btc_1h"
   ],
   "outputs": [
    {
     "name": "stdout",
     "output_type": "stream",
     "text": [
      "C:\\Users\\alexi\\Desktop\\MoneyTime\\utilities\\database\\binance\n",
      "C:\\Users\\alexi\\Desktop\\MoneyTime\\utilities\\database\\binance/1d/BTC-USDT-USDT.csv\n",
      "(2098, 5)\n"
     ]
    },
    {
     "data": {
      "text/plain": [
       "                 open       high        low      close      volume\n",
       "date                                                              \n",
       "2019-09-08   10000.00   10412.65   10000.00   10391.63    3096.291\n",
       "2019-09-09   10316.62   10475.54   10077.22   10307.00   14824.373\n",
       "2019-09-10   10307.00   10382.97    9940.87   10102.02    9068.955\n",
       "2019-09-11   10094.27   10293.11    9884.31   10159.55   10897.922\n",
       "2019-09-12   10163.06   10450.13   10042.12   10415.13   15609.634\n",
       "...               ...        ...        ...        ...         ...\n",
       "2025-06-01  104544.60  105823.60  103704.10  105583.30   97420.240\n",
       "2025-06-02  105583.30  105900.00  103600.60  105814.30  158252.918\n",
       "2025-06-03  105814.40  106775.00  104822.40  105330.10  139216.007\n",
       "2025-06-04  105330.10  105967.20  104111.70  104641.80  118534.125\n",
       "2025-06-05  104641.80  105878.30  100305.10  101458.60  246238.674\n",
       "\n",
       "[2098 rows x 5 columns]"
      ],
      "text/html": [
       "<div>\n",
       "<style scoped>\n",
       "    .dataframe tbody tr th:only-of-type {\n",
       "        vertical-align: middle;\n",
       "    }\n",
       "\n",
       "    .dataframe tbody tr th {\n",
       "        vertical-align: top;\n",
       "    }\n",
       "\n",
       "    .dataframe thead th {\n",
       "        text-align: right;\n",
       "    }\n",
       "</style>\n",
       "<table border=\"1\" class=\"dataframe\">\n",
       "  <thead>\n",
       "    <tr style=\"text-align: right;\">\n",
       "      <th></th>\n",
       "      <th>open</th>\n",
       "      <th>high</th>\n",
       "      <th>low</th>\n",
       "      <th>close</th>\n",
       "      <th>volume</th>\n",
       "    </tr>\n",
       "    <tr>\n",
       "      <th>date</th>\n",
       "      <th></th>\n",
       "      <th></th>\n",
       "      <th></th>\n",
       "      <th></th>\n",
       "      <th></th>\n",
       "    </tr>\n",
       "  </thead>\n",
       "  <tbody>\n",
       "    <tr>\n",
       "      <th>2019-09-08</th>\n",
       "      <td>10000.00</td>\n",
       "      <td>10412.65</td>\n",
       "      <td>10000.00</td>\n",
       "      <td>10391.63</td>\n",
       "      <td>3096.291</td>\n",
       "    </tr>\n",
       "    <tr>\n",
       "      <th>2019-09-09</th>\n",
       "      <td>10316.62</td>\n",
       "      <td>10475.54</td>\n",
       "      <td>10077.22</td>\n",
       "      <td>10307.00</td>\n",
       "      <td>14824.373</td>\n",
       "    </tr>\n",
       "    <tr>\n",
       "      <th>2019-09-10</th>\n",
       "      <td>10307.00</td>\n",
       "      <td>10382.97</td>\n",
       "      <td>9940.87</td>\n",
       "      <td>10102.02</td>\n",
       "      <td>9068.955</td>\n",
       "    </tr>\n",
       "    <tr>\n",
       "      <th>2019-09-11</th>\n",
       "      <td>10094.27</td>\n",
       "      <td>10293.11</td>\n",
       "      <td>9884.31</td>\n",
       "      <td>10159.55</td>\n",
       "      <td>10897.922</td>\n",
       "    </tr>\n",
       "    <tr>\n",
       "      <th>2019-09-12</th>\n",
       "      <td>10163.06</td>\n",
       "      <td>10450.13</td>\n",
       "      <td>10042.12</td>\n",
       "      <td>10415.13</td>\n",
       "      <td>15609.634</td>\n",
       "    </tr>\n",
       "    <tr>\n",
       "      <th>...</th>\n",
       "      <td>...</td>\n",
       "      <td>...</td>\n",
       "      <td>...</td>\n",
       "      <td>...</td>\n",
       "      <td>...</td>\n",
       "    </tr>\n",
       "    <tr>\n",
       "      <th>2025-06-01</th>\n",
       "      <td>104544.60</td>\n",
       "      <td>105823.60</td>\n",
       "      <td>103704.10</td>\n",
       "      <td>105583.30</td>\n",
       "      <td>97420.240</td>\n",
       "    </tr>\n",
       "    <tr>\n",
       "      <th>2025-06-02</th>\n",
       "      <td>105583.30</td>\n",
       "      <td>105900.00</td>\n",
       "      <td>103600.60</td>\n",
       "      <td>105814.30</td>\n",
       "      <td>158252.918</td>\n",
       "    </tr>\n",
       "    <tr>\n",
       "      <th>2025-06-03</th>\n",
       "      <td>105814.40</td>\n",
       "      <td>106775.00</td>\n",
       "      <td>104822.40</td>\n",
       "      <td>105330.10</td>\n",
       "      <td>139216.007</td>\n",
       "    </tr>\n",
       "    <tr>\n",
       "      <th>2025-06-04</th>\n",
       "      <td>105330.10</td>\n",
       "      <td>105967.20</td>\n",
       "      <td>104111.70</td>\n",
       "      <td>104641.80</td>\n",
       "      <td>118534.125</td>\n",
       "    </tr>\n",
       "    <tr>\n",
       "      <th>2025-06-05</th>\n",
       "      <td>104641.80</td>\n",
       "      <td>105878.30</td>\n",
       "      <td>100305.10</td>\n",
       "      <td>101458.60</td>\n",
       "      <td>246238.674</td>\n",
       "    </tr>\n",
       "  </tbody>\n",
       "</table>\n",
       "<p>2098 rows × 5 columns</p>\n",
       "</div>"
      ]
     },
     "execution_count": 3,
     "metadata": {},
     "output_type": "execute_result"
    }
   ],
   "execution_count": 3
  },
  {
   "cell_type": "code",
   "id": "6541e3e3",
   "metadata": {
    "ExecuteTime": {
     "end_time": "2025-06-06T07:43:29.687783Z",
     "start_time": "2025-06-06T07:43:29.043566Z"
    }
   },
   "source": [
    "exchange.explore_data()"
   ],
   "outputs": [
    {
     "data": {
      "text/plain": [
       "   exchange timeframe           pair  occurences           start_date  \\\n",
       "0   binance       12h  BTC-USDT-USDT        4196  2019-09-08 14:00:00   \n",
       "1   binance       12h  ETH-USDT-USDT        4037  2019-11-27 01:00:00   \n",
       "2   binance       12h  SOL-USDT-USDT        3453  2020-09-14 02:00:00   \n",
       "3   binance        1d  BTC-USDT-USDT        2099  2019-09-08 02:00:00   \n",
       "4   binance        1d  ETH-USDT-USDT        2019  2019-11-27 01:00:00   \n",
       "5   binance        1d  SOL-USDT-USDT        1727  2020-09-14 02:00:00   \n",
       "6   binance        1h  BTC-USDT-USDT       50343  2019-09-08 19:00:00   \n",
       "7   binance        1h  ETH-USDT-USDT       48433  2019-11-27 08:00:00   \n",
       "8   binance        1h  SOL-USDT-USDT       41425  2020-09-14 09:00:00   \n",
       "9   binance        1w  BTC-USDT-USDT         301  2019-09-02 02:00:00   \n",
       "10  binance        1w  ETH-USDT-USDT         289  2019-11-25 01:00:00   \n",
       "11  binance        1w  SOL-USDT-USDT         247  2020-09-14 02:00:00   \n",
       "12  binance        2h  BTC-USDT-USDT       25172  2019-09-08 18:00:00   \n",
       "13  binance        2h  ETH-USDT-USDT       24217  2019-11-27 07:00:00   \n",
       "14  binance        2h  SOL-USDT-USDT       20713  2020-09-14 08:00:00   \n",
       "15  binance       30m  BTC-USDT-USDT      100685  2019-09-08 19:30:00   \n",
       "16  binance       30m  ETH-USDT-USDT       96865  2019-11-27 08:30:00   \n",
       "17  binance       30m  SOL-USDT-USDT       82850  2020-09-14 09:00:00   \n",
       "18  binance        4h  BTC-USDT-USDT       12586  2019-09-08 18:00:00   \n",
       "19  binance        4h  ETH-USDT-USDT       12109  2019-11-27 05:00:00   \n",
       "20  binance        4h  SOL-USDT-USDT       10357  2020-09-14 06:00:00   \n",
       "\n",
       "               end_date  \n",
       "0   2025-06-06 02:00:00  \n",
       "1   2025-06-06 02:00:00  \n",
       "2   2025-06-06 02:00:00  \n",
       "3   2025-06-06 02:00:00  \n",
       "4   2025-06-06 02:00:00  \n",
       "5   2025-06-06 02:00:00  \n",
       "6   2025-06-06 09:00:00  \n",
       "7   2025-06-06 09:00:00  \n",
       "8   2025-06-06 09:00:00  \n",
       "9   2025-06-02 02:00:00  \n",
       "10  2025-06-02 02:00:00  \n",
       "11  2025-06-02 02:00:00  \n",
       "12  2025-06-06 08:00:00  \n",
       "13  2025-06-06 08:00:00  \n",
       "14  2025-06-06 08:00:00  \n",
       "15  2025-06-06 09:30:00  \n",
       "16  2025-06-06 09:30:00  \n",
       "17  2025-06-06 09:30:00  \n",
       "18  2025-06-06 06:00:00  \n",
       "19  2025-06-06 06:00:00  \n",
       "20  2025-06-06 06:00:00  "
      ],
      "text/html": [
       "<div>\n",
       "<style scoped>\n",
       "    .dataframe tbody tr th:only-of-type {\n",
       "        vertical-align: middle;\n",
       "    }\n",
       "\n",
       "    .dataframe tbody tr th {\n",
       "        vertical-align: top;\n",
       "    }\n",
       "\n",
       "    .dataframe thead th {\n",
       "        text-align: right;\n",
       "    }\n",
       "</style>\n",
       "<table border=\"1\" class=\"dataframe\">\n",
       "  <thead>\n",
       "    <tr style=\"text-align: right;\">\n",
       "      <th></th>\n",
       "      <th>exchange</th>\n",
       "      <th>timeframe</th>\n",
       "      <th>pair</th>\n",
       "      <th>occurences</th>\n",
       "      <th>start_date</th>\n",
       "      <th>end_date</th>\n",
       "    </tr>\n",
       "  </thead>\n",
       "  <tbody>\n",
       "    <tr>\n",
       "      <th>0</th>\n",
       "      <td>binance</td>\n",
       "      <td>12h</td>\n",
       "      <td>BTC-USDT-USDT</td>\n",
       "      <td>4196</td>\n",
       "      <td>2019-09-08 14:00:00</td>\n",
       "      <td>2025-06-06 02:00:00</td>\n",
       "    </tr>\n",
       "    <tr>\n",
       "      <th>1</th>\n",
       "      <td>binance</td>\n",
       "      <td>12h</td>\n",
       "      <td>ETH-USDT-USDT</td>\n",
       "      <td>4037</td>\n",
       "      <td>2019-11-27 01:00:00</td>\n",
       "      <td>2025-06-06 02:00:00</td>\n",
       "    </tr>\n",
       "    <tr>\n",
       "      <th>2</th>\n",
       "      <td>binance</td>\n",
       "      <td>12h</td>\n",
       "      <td>SOL-USDT-USDT</td>\n",
       "      <td>3453</td>\n",
       "      <td>2020-09-14 02:00:00</td>\n",
       "      <td>2025-06-06 02:00:00</td>\n",
       "    </tr>\n",
       "    <tr>\n",
       "      <th>3</th>\n",
       "      <td>binance</td>\n",
       "      <td>1d</td>\n",
       "      <td>BTC-USDT-USDT</td>\n",
       "      <td>2099</td>\n",
       "      <td>2019-09-08 02:00:00</td>\n",
       "      <td>2025-06-06 02:00:00</td>\n",
       "    </tr>\n",
       "    <tr>\n",
       "      <th>4</th>\n",
       "      <td>binance</td>\n",
       "      <td>1d</td>\n",
       "      <td>ETH-USDT-USDT</td>\n",
       "      <td>2019</td>\n",
       "      <td>2019-11-27 01:00:00</td>\n",
       "      <td>2025-06-06 02:00:00</td>\n",
       "    </tr>\n",
       "    <tr>\n",
       "      <th>5</th>\n",
       "      <td>binance</td>\n",
       "      <td>1d</td>\n",
       "      <td>SOL-USDT-USDT</td>\n",
       "      <td>1727</td>\n",
       "      <td>2020-09-14 02:00:00</td>\n",
       "      <td>2025-06-06 02:00:00</td>\n",
       "    </tr>\n",
       "    <tr>\n",
       "      <th>6</th>\n",
       "      <td>binance</td>\n",
       "      <td>1h</td>\n",
       "      <td>BTC-USDT-USDT</td>\n",
       "      <td>50343</td>\n",
       "      <td>2019-09-08 19:00:00</td>\n",
       "      <td>2025-06-06 09:00:00</td>\n",
       "    </tr>\n",
       "    <tr>\n",
       "      <th>7</th>\n",
       "      <td>binance</td>\n",
       "      <td>1h</td>\n",
       "      <td>ETH-USDT-USDT</td>\n",
       "      <td>48433</td>\n",
       "      <td>2019-11-27 08:00:00</td>\n",
       "      <td>2025-06-06 09:00:00</td>\n",
       "    </tr>\n",
       "    <tr>\n",
       "      <th>8</th>\n",
       "      <td>binance</td>\n",
       "      <td>1h</td>\n",
       "      <td>SOL-USDT-USDT</td>\n",
       "      <td>41425</td>\n",
       "      <td>2020-09-14 09:00:00</td>\n",
       "      <td>2025-06-06 09:00:00</td>\n",
       "    </tr>\n",
       "    <tr>\n",
       "      <th>9</th>\n",
       "      <td>binance</td>\n",
       "      <td>1w</td>\n",
       "      <td>BTC-USDT-USDT</td>\n",
       "      <td>301</td>\n",
       "      <td>2019-09-02 02:00:00</td>\n",
       "      <td>2025-06-02 02:00:00</td>\n",
       "    </tr>\n",
       "    <tr>\n",
       "      <th>10</th>\n",
       "      <td>binance</td>\n",
       "      <td>1w</td>\n",
       "      <td>ETH-USDT-USDT</td>\n",
       "      <td>289</td>\n",
       "      <td>2019-11-25 01:00:00</td>\n",
       "      <td>2025-06-02 02:00:00</td>\n",
       "    </tr>\n",
       "    <tr>\n",
       "      <th>11</th>\n",
       "      <td>binance</td>\n",
       "      <td>1w</td>\n",
       "      <td>SOL-USDT-USDT</td>\n",
       "      <td>247</td>\n",
       "      <td>2020-09-14 02:00:00</td>\n",
       "      <td>2025-06-02 02:00:00</td>\n",
       "    </tr>\n",
       "    <tr>\n",
       "      <th>12</th>\n",
       "      <td>binance</td>\n",
       "      <td>2h</td>\n",
       "      <td>BTC-USDT-USDT</td>\n",
       "      <td>25172</td>\n",
       "      <td>2019-09-08 18:00:00</td>\n",
       "      <td>2025-06-06 08:00:00</td>\n",
       "    </tr>\n",
       "    <tr>\n",
       "      <th>13</th>\n",
       "      <td>binance</td>\n",
       "      <td>2h</td>\n",
       "      <td>ETH-USDT-USDT</td>\n",
       "      <td>24217</td>\n",
       "      <td>2019-11-27 07:00:00</td>\n",
       "      <td>2025-06-06 08:00:00</td>\n",
       "    </tr>\n",
       "    <tr>\n",
       "      <th>14</th>\n",
       "      <td>binance</td>\n",
       "      <td>2h</td>\n",
       "      <td>SOL-USDT-USDT</td>\n",
       "      <td>20713</td>\n",
       "      <td>2020-09-14 08:00:00</td>\n",
       "      <td>2025-06-06 08:00:00</td>\n",
       "    </tr>\n",
       "    <tr>\n",
       "      <th>15</th>\n",
       "      <td>binance</td>\n",
       "      <td>30m</td>\n",
       "      <td>BTC-USDT-USDT</td>\n",
       "      <td>100685</td>\n",
       "      <td>2019-09-08 19:30:00</td>\n",
       "      <td>2025-06-06 09:30:00</td>\n",
       "    </tr>\n",
       "    <tr>\n",
       "      <th>16</th>\n",
       "      <td>binance</td>\n",
       "      <td>30m</td>\n",
       "      <td>ETH-USDT-USDT</td>\n",
       "      <td>96865</td>\n",
       "      <td>2019-11-27 08:30:00</td>\n",
       "      <td>2025-06-06 09:30:00</td>\n",
       "    </tr>\n",
       "    <tr>\n",
       "      <th>17</th>\n",
       "      <td>binance</td>\n",
       "      <td>30m</td>\n",
       "      <td>SOL-USDT-USDT</td>\n",
       "      <td>82850</td>\n",
       "      <td>2020-09-14 09:00:00</td>\n",
       "      <td>2025-06-06 09:30:00</td>\n",
       "    </tr>\n",
       "    <tr>\n",
       "      <th>18</th>\n",
       "      <td>binance</td>\n",
       "      <td>4h</td>\n",
       "      <td>BTC-USDT-USDT</td>\n",
       "      <td>12586</td>\n",
       "      <td>2019-09-08 18:00:00</td>\n",
       "      <td>2025-06-06 06:00:00</td>\n",
       "    </tr>\n",
       "    <tr>\n",
       "      <th>19</th>\n",
       "      <td>binance</td>\n",
       "      <td>4h</td>\n",
       "      <td>ETH-USDT-USDT</td>\n",
       "      <td>12109</td>\n",
       "      <td>2019-11-27 05:00:00</td>\n",
       "      <td>2025-06-06 06:00:00</td>\n",
       "    </tr>\n",
       "    <tr>\n",
       "      <th>20</th>\n",
       "      <td>binance</td>\n",
       "      <td>4h</td>\n",
       "      <td>SOL-USDT-USDT</td>\n",
       "      <td>10357</td>\n",
       "      <td>2020-09-14 06:00:00</td>\n",
       "      <td>2025-06-06 06:00:00</td>\n",
       "    </tr>\n",
       "  </tbody>\n",
       "</table>\n",
       "</div>"
      ]
     },
     "execution_count": 4,
     "metadata": {},
     "output_type": "execute_result"
    }
   ],
   "execution_count": 4
  }
 ],
 "metadata": {
  "kernelspec": {
   "display_name": "MoneyTime",
   "language": "python",
   "name": "python3"
  },
  "language_info": {
   "codemirror_mode": {
    "name": "ipython",
    "version": 3
   },
   "file_extension": ".py",
   "mimetype": "text/x-python",
   "name": "python",
   "nbconvert_exporter": "python",
   "pygments_lexer": "ipython3",
   "version": "3.11.4"
  }
 },
 "nbformat": 4,
 "nbformat_minor": 5
}
