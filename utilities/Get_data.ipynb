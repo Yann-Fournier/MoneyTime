{
 "cells": [
  {
   "cell_type": "code",
   "execution_count": 3,
   "id": "8c158acb",
   "metadata": {},
   "outputs": [],
   "source": [
    "import sys\n",
    "sys.path.append('./')\n",
    "from Object import ExchangeDataManager"
   ]
  },
  {
   "cell_type": "markdown",
   "id": "0cc84fff",
   "metadata": {},
   "source": [
    "# Téléchargement de l'historique des données dans des CSV"
   ]
  },
  {
   "cell_type": "code",
   "execution_count": 4,
   "id": "0bd196fd",
   "metadata": {},
   "outputs": [
    {
     "name": "stdout",
     "output_type": "stream",
     "text": [
      "\tRécupération pour la paire BTC/USDT:USDT en timeframe 30m sur l'exchange binance...\n"
     ]
    },
    {
     "data": {
      "application/vnd.jupyter.widget-view+json": {
       "model_id": "d7a061ebaefa4be0983933f0a82817aa",
       "version_major": 2,
       "version_minor": 0
      },
      "text/plain": [
       "  0%|          | 0/2 [00:00<?, ?it/s]"
      ]
     },
     "metadata": {},
     "output_type": "display_data"
    },
    {
     "name": "stdout",
     "output_type": "stream",
     "text": [
      "\u001b[H\u001b[J\tRécupération pour la paire ETH/USDT:USDT en timeframe 30m sur l'exchange binance...\n"
     ]
    },
    {
     "data": {
      "application/vnd.jupyter.widget-view+json": {
       "model_id": "64d3f222feeb470eaae8a3f7cb461bc6",
       "version_major": 2,
       "version_minor": 0
      },
      "text/plain": [
       "  0%|          | 0/2 [00:00<?, ?it/s]"
      ]
     },
     "metadata": {},
     "output_type": "display_data"
    },
    {
     "name": "stdout",
     "output_type": "stream",
     "text": [
      "\u001b[H\u001b[J\tRécupération pour la paire SOL/USDT:USDT en timeframe 30m sur l'exchange binance...\n"
     ]
    },
    {
     "data": {
      "application/vnd.jupyter.widget-view+json": {
       "model_id": "8304da9483da41e5b3edf3bc67ab44dd",
       "version_major": 2,
       "version_minor": 0
      },
      "text/plain": [
       "  0%|          | 0/2 [00:00<?, ?it/s]"
      ]
     },
     "metadata": {},
     "output_type": "display_data"
    },
    {
     "name": "stdout",
     "output_type": "stream",
     "text": [
      "\u001b[H\u001b[J\tRécupération pour la paire BTC/USDT:USDT en timeframe 1h sur l'exchange binance...\n"
     ]
    },
    {
     "data": {
      "application/vnd.jupyter.widget-view+json": {
       "model_id": "a2abe7cc5f6141c885250b7fb7d4b521",
       "version_major": 2,
       "version_minor": 0
      },
      "text/plain": [
       "  0%|          | 0/1 [00:00<?, ?it/s]"
      ]
     },
     "metadata": {},
     "output_type": "display_data"
    },
    {
     "name": "stdout",
     "output_type": "stream",
     "text": [
      "\u001b[H\u001b[J\tRécupération pour la paire ETH/USDT:USDT en timeframe 1h sur l'exchange binance...\n"
     ]
    },
    {
     "data": {
      "application/vnd.jupyter.widget-view+json": {
       "model_id": "7958865213704d599b8bddcd187567ca",
       "version_major": 2,
       "version_minor": 0
      },
      "text/plain": [
       "  0%|          | 0/1 [00:00<?, ?it/s]"
      ]
     },
     "metadata": {},
     "output_type": "display_data"
    },
    {
     "name": "stdout",
     "output_type": "stream",
     "text": [
      "\u001b[H\u001b[J\tRécupération pour la paire SOL/USDT:USDT en timeframe 1h sur l'exchange binance...\n"
     ]
    },
    {
     "data": {
      "application/vnd.jupyter.widget-view+json": {
       "model_id": "4c1038d21be74131b5c6a6995cc1b1dd",
       "version_major": 2,
       "version_minor": 0
      },
      "text/plain": [
       "  0%|          | 0/1 [00:00<?, ?it/s]"
      ]
     },
     "metadata": {},
     "output_type": "display_data"
    },
    {
     "name": "stdout",
     "output_type": "stream",
     "text": [
      "\u001b[H\u001b[J\tRécupération pour la paire BTC/USDT:USDT en timeframe 2h sur l'exchange binance...\n"
     ]
    },
    {
     "data": {
      "application/vnd.jupyter.widget-view+json": {
       "model_id": "ba39452aad9c4a4fb5a421324a0d03a7",
       "version_major": 2,
       "version_minor": 0
      },
      "text/plain": [
       "  0%|          | 0/1 [00:00<?, ?it/s]"
      ]
     },
     "metadata": {},
     "output_type": "display_data"
    },
    {
     "name": "stdout",
     "output_type": "stream",
     "text": [
      "\u001b[H\u001b[J\tRécupération pour la paire ETH/USDT:USDT en timeframe 2h sur l'exchange binance...\n"
     ]
    },
    {
     "data": {
      "application/vnd.jupyter.widget-view+json": {
       "model_id": "c728680eb1d047648454b22658c70647",
       "version_major": 2,
       "version_minor": 0
      },
      "text/plain": [
       "  0%|          | 0/1 [00:00<?, ?it/s]"
      ]
     },
     "metadata": {},
     "output_type": "display_data"
    },
    {
     "name": "stdout",
     "output_type": "stream",
     "text": [
      "\u001b[H\u001b[J\tRécupération pour la paire SOL/USDT:USDT en timeframe 2h sur l'exchange binance...\n"
     ]
    },
    {
     "data": {
      "application/vnd.jupyter.widget-view+json": {
       "model_id": "b691135ea9a0429a8f0e2eec1844f078",
       "version_major": 2,
       "version_minor": 0
      },
      "text/plain": [
       "  0%|          | 0/1 [00:00<?, ?it/s]"
      ]
     },
     "metadata": {},
     "output_type": "display_data"
    },
    {
     "name": "stdout",
     "output_type": "stream",
     "text": [
      "\u001b[H\u001b[J\tRécupération pour la paire BTC/USDT:USDT en timeframe 4h sur l'exchange binance...\n"
     ]
    },
    {
     "data": {
      "application/vnd.jupyter.widget-view+json": {
       "model_id": "3a48501422cf4ea1aff566b95f424f18",
       "version_major": 2,
       "version_minor": 0
      },
      "text/plain": [
       "  0%|          | 0/1 [00:00<?, ?it/s]"
      ]
     },
     "metadata": {},
     "output_type": "display_data"
    },
    {
     "name": "stdout",
     "output_type": "stream",
     "text": [
      "\u001b[H\u001b[J\tRécupération pour la paire ETH/USDT:USDT en timeframe 4h sur l'exchange binance...\n"
     ]
    },
    {
     "data": {
      "application/vnd.jupyter.widget-view+json": {
       "model_id": "158a177889924497b7632df278092a65",
       "version_major": 2,
       "version_minor": 0
      },
      "text/plain": [
       "  0%|          | 0/1 [00:00<?, ?it/s]"
      ]
     },
     "metadata": {},
     "output_type": "display_data"
    },
    {
     "name": "stdout",
     "output_type": "stream",
     "text": [
      "\u001b[H\u001b[J\tRécupération pour la paire SOL/USDT:USDT en timeframe 4h sur l'exchange binance...\n"
     ]
    },
    {
     "data": {
      "application/vnd.jupyter.widget-view+json": {
       "model_id": "1c30ce78be314db4b9112053e457fca2",
       "version_major": 2,
       "version_minor": 0
      },
      "text/plain": [
       "  0%|          | 0/1 [00:00<?, ?it/s]"
      ]
     },
     "metadata": {},
     "output_type": "display_data"
    },
    {
     "name": "stdout",
     "output_type": "stream",
     "text": [
      "\u001b[H\u001b[J\tRécupération pour la paire BTC/USDT:USDT en timeframe 12h sur l'exchange binance...\n"
     ]
    },
    {
     "data": {
      "application/vnd.jupyter.widget-view+json": {
       "model_id": "eafbae3926664439837955ff3505c5e2",
       "version_major": 2,
       "version_minor": 0
      },
      "text/plain": [
       "  0%|          | 0/1 [00:00<?, ?it/s]"
      ]
     },
     "metadata": {},
     "output_type": "display_data"
    },
    {
     "name": "stdout",
     "output_type": "stream",
     "text": [
      "\u001b[H\u001b[J\tRécupération pour la paire ETH/USDT:USDT en timeframe 12h sur l'exchange binance...\n"
     ]
    },
    {
     "data": {
      "application/vnd.jupyter.widget-view+json": {
       "model_id": "b594b07130fd4771a5de72c80aa09800",
       "version_major": 2,
       "version_minor": 0
      },
      "text/plain": [
       "  0%|          | 0/1 [00:00<?, ?it/s]"
      ]
     },
     "metadata": {},
     "output_type": "display_data"
    },
    {
     "name": "stdout",
     "output_type": "stream",
     "text": [
      "\u001b[H\u001b[J\tRécupération pour la paire SOL/USDT:USDT en timeframe 12h sur l'exchange binance...\n"
     ]
    },
    {
     "data": {
      "application/vnd.jupyter.widget-view+json": {
       "model_id": "aad6c5f23718428e97a302aa946ff32d",
       "version_major": 2,
       "version_minor": 0
      },
      "text/plain": [
       "  0%|          | 0/1 [00:00<?, ?it/s]"
      ]
     },
     "metadata": {},
     "output_type": "display_data"
    },
    {
     "name": "stdout",
     "output_type": "stream",
     "text": [
      "\u001b[H\u001b[J\tRécupération pour la paire BTC/USDT:USDT en timeframe 1d sur l'exchange binance...\n"
     ]
    },
    {
     "data": {
      "application/vnd.jupyter.widget-view+json": {
       "model_id": "d799e2bbf4314fb9bdf455ed24236f65",
       "version_major": 2,
       "version_minor": 0
      },
      "text/plain": [
       "  0%|          | 0/1 [00:00<?, ?it/s]"
      ]
     },
     "metadata": {},
     "output_type": "display_data"
    },
    {
     "name": "stdout",
     "output_type": "stream",
     "text": [
      "\u001b[H\u001b[J\tRécupération pour la paire ETH/USDT:USDT en timeframe 1d sur l'exchange binance...\n"
     ]
    },
    {
     "data": {
      "application/vnd.jupyter.widget-view+json": {
       "model_id": "a063c9bcea6e42e4aad99bd98b24bdbc",
       "version_major": 2,
       "version_minor": 0
      },
      "text/plain": [
       "  0%|          | 0/1 [00:00<?, ?it/s]"
      ]
     },
     "metadata": {},
     "output_type": "display_data"
    },
    {
     "name": "stdout",
     "output_type": "stream",
     "text": [
      "\u001b[H\u001b[J\tRécupération pour la paire SOL/USDT:USDT en timeframe 1d sur l'exchange binance...\n"
     ]
    },
    {
     "data": {
      "application/vnd.jupyter.widget-view+json": {
       "model_id": "2ea251708fad4e4e8785bd23f3201b8c",
       "version_major": 2,
       "version_minor": 0
      },
      "text/plain": [
       "  0%|          | 0/1 [00:00<?, ?it/s]"
      ]
     },
     "metadata": {},
     "output_type": "display_data"
    },
    {
     "name": "stdout",
     "output_type": "stream",
     "text": [
      "\u001b[H\u001b[J\tRécupération pour la paire BTC/USDT:USDT en timeframe 1w sur l'exchange binance...\n"
     ]
    },
    {
     "data": {
      "application/vnd.jupyter.widget-view+json": {
       "model_id": "bc8f6949677b4b278e36b7c93f16b2e2",
       "version_major": 2,
       "version_minor": 0
      },
      "text/plain": [
       "  0%|          | 0/1 [00:00<?, ?it/s]"
      ]
     },
     "metadata": {},
     "output_type": "display_data"
    },
    {
     "name": "stdout",
     "output_type": "stream",
     "text": [
      "\u001b[H\u001b[J\tRécupération pour la paire ETH/USDT:USDT en timeframe 1w sur l'exchange binance...\n"
     ]
    },
    {
     "data": {
      "application/vnd.jupyter.widget-view+json": {
       "model_id": "15cfabd1ffe046258030b312ec2df97d",
       "version_major": 2,
       "version_minor": 0
      },
      "text/plain": [
       "  0%|          | 0/1 [00:00<?, ?it/s]"
      ]
     },
     "metadata": {},
     "output_type": "display_data"
    },
    {
     "name": "stdout",
     "output_type": "stream",
     "text": [
      "\u001b[H\u001b[J\tRécupération pour la paire SOL/USDT:USDT en timeframe 1w sur l'exchange binance...\n"
     ]
    },
    {
     "data": {
      "application/vnd.jupyter.widget-view+json": {
       "model_id": "5e4cb7da1cce44d6b71c6dbef2c06d5f",
       "version_major": 2,
       "version_minor": 0
      },
      "text/plain": [
       "  0%|          | 0/1 [00:00<?, ?it/s]"
      ]
     },
     "metadata": {},
     "output_type": "display_data"
    },
    {
     "name": "stdout",
     "output_type": "stream",
     "text": [
      "\u001b[H\u001b[J"
     ]
    }
   ],
   "source": [
    "# exchange_name = \"bitget\"\n",
    "exchange_name = \"binance\"\n",
    "\n",
    "intervals = [\n",
    "    \"30m\", \n",
    "    \"1h\", \n",
    "    \"2h\", \n",
    "    \"4h\", \n",
    "    \"12h\", \n",
    "    \"1d\", \n",
    "    \"1w\"\n",
    "]\n",
    "\n",
    "coin_to_dl = [\n",
    "    \"BTC/USDT:USDT\",\n",
    "    \"ETH/USDT:USDT\",\n",
    "    \"SOL/USDT:USDT\",\n",
    "    # \"XRP/USDT:USDT\",\n",
    "    # \"LTC/USDT:USDT\",\n",
    "    # \"BNB/USDT:USDT\",\n",
    "    # \"DOGE/USDT:USDT\",\n",
    "    # \"FET/USDT:USDT\",\n",
    "    # \"NEAR/USDT:USDT\",\n",
    "    # \"TAO/USDT:USDT\",\n",
    "    # \"SUI/USDT:USDT\",\n",
    "    # \"PENDLE/USDT:USDT\",\n",
    "    # \"IO/USDT:USDT\",\n",
    "    # \"AVAX/USDT:USDT\",\n",
    "    # \"GLM/USDT:USDT\",\n",
    "    # \"FTM/USDT:USDT\"\n",
    "]\n",
    "\n",
    "exchange = ExchangeDataManager(\n",
    "    exchange_name=exchange_name, \n",
    "    path_download=\"../database\"\n",
    ")\n",
    "\n",
    "await exchange.download_data(\n",
    "    coins=coin_to_dl,\n",
    "    intervals=intervals,\n",
    ")"
   ]
  },
  {
   "cell_type": "code",
   "execution_count": 5,
   "id": "766d8c13",
   "metadata": {},
   "outputs": [
    {
     "name": "stdout",
     "output_type": "stream",
     "text": [
      "C:\\Users\\yfour\\OneDrive\\Documents\\cours_Ynov\\B3\\MoneyTime\\database\\binance\n",
      "C:\\Users\\yfour\\OneDrive\\Documents\\cours_Ynov\\B3\\MoneyTime\\database\\binance/1d/BTC-USDT-USDT.csv\n",
      "(2113, 5)\n"
     ]
    },
    {
     "data": {
      "text/html": [
       "<div>\n",
       "<style scoped>\n",
       "    .dataframe tbody tr th:only-of-type {\n",
       "        vertical-align: middle;\n",
       "    }\n",
       "\n",
       "    .dataframe tbody tr th {\n",
       "        vertical-align: top;\n",
       "    }\n",
       "\n",
       "    .dataframe thead th {\n",
       "        text-align: right;\n",
       "    }\n",
       "</style>\n",
       "<table border=\"1\" class=\"dataframe\">\n",
       "  <thead>\n",
       "    <tr style=\"text-align: right;\">\n",
       "      <th></th>\n",
       "      <th>open</th>\n",
       "      <th>high</th>\n",
       "      <th>low</th>\n",
       "      <th>close</th>\n",
       "      <th>volume</th>\n",
       "    </tr>\n",
       "    <tr>\n",
       "      <th>date</th>\n",
       "      <th></th>\n",
       "      <th></th>\n",
       "      <th></th>\n",
       "      <th></th>\n",
       "      <th></th>\n",
       "    </tr>\n",
       "  </thead>\n",
       "  <tbody>\n",
       "    <tr>\n",
       "      <th>2019-09-08</th>\n",
       "      <td>10000.00</td>\n",
       "      <td>10412.65</td>\n",
       "      <td>10000.00</td>\n",
       "      <td>10391.63</td>\n",
       "      <td>3096.291</td>\n",
       "    </tr>\n",
       "    <tr>\n",
       "      <th>2019-09-09</th>\n",
       "      <td>10316.62</td>\n",
       "      <td>10475.54</td>\n",
       "      <td>10077.22</td>\n",
       "      <td>10307.00</td>\n",
       "      <td>14824.373</td>\n",
       "    </tr>\n",
       "    <tr>\n",
       "      <th>2019-09-10</th>\n",
       "      <td>10307.00</td>\n",
       "      <td>10382.97</td>\n",
       "      <td>9940.87</td>\n",
       "      <td>10102.02</td>\n",
       "      <td>9068.955</td>\n",
       "    </tr>\n",
       "    <tr>\n",
       "      <th>2019-09-11</th>\n",
       "      <td>10094.27</td>\n",
       "      <td>10293.11</td>\n",
       "      <td>9884.31</td>\n",
       "      <td>10159.55</td>\n",
       "      <td>10897.922</td>\n",
       "    </tr>\n",
       "    <tr>\n",
       "      <th>2019-09-12</th>\n",
       "      <td>10163.06</td>\n",
       "      <td>10450.13</td>\n",
       "      <td>10042.12</td>\n",
       "      <td>10415.13</td>\n",
       "      <td>15609.634</td>\n",
       "    </tr>\n",
       "    <tr>\n",
       "      <th>...</th>\n",
       "      <td>...</td>\n",
       "      <td>...</td>\n",
       "      <td>...</td>\n",
       "      <td>...</td>\n",
       "      <td>...</td>\n",
       "    </tr>\n",
       "    <tr>\n",
       "      <th>2025-06-16</th>\n",
       "      <td>105534.70</td>\n",
       "      <td>108900.00</td>\n",
       "      <td>104920.00</td>\n",
       "      <td>106750.10</td>\n",
       "      <td>166813.219</td>\n",
       "    </tr>\n",
       "    <tr>\n",
       "      <th>2025-06-17</th>\n",
       "      <td>106750.10</td>\n",
       "      <td>107727.40</td>\n",
       "      <td>103300.00</td>\n",
       "      <td>104508.00</td>\n",
       "      <td>226051.863</td>\n",
       "    </tr>\n",
       "    <tr>\n",
       "      <th>2025-06-18</th>\n",
       "      <td>104508.00</td>\n",
       "      <td>105500.00</td>\n",
       "      <td>103426.10</td>\n",
       "      <td>104832.80</td>\n",
       "      <td>172706.399</td>\n",
       "    </tr>\n",
       "    <tr>\n",
       "      <th>2025-06-19</th>\n",
       "      <td>104832.80</td>\n",
       "      <td>105185.70</td>\n",
       "      <td>103870.30</td>\n",
       "      <td>104607.10</td>\n",
       "      <td>87710.605</td>\n",
       "    </tr>\n",
       "    <tr>\n",
       "      <th>2025-06-20</th>\n",
       "      <td>104607.10</td>\n",
       "      <td>106486.20</td>\n",
       "      <td>102255.30</td>\n",
       "      <td>103246.10</td>\n",
       "      <td>199102.135</td>\n",
       "    </tr>\n",
       "  </tbody>\n",
       "</table>\n",
       "<p>2113 rows × 5 columns</p>\n",
       "</div>"
      ],
      "text/plain": [
       "                 open       high        low      close      volume\n",
       "date                                                              \n",
       "2019-09-08   10000.00   10412.65   10000.00   10391.63    3096.291\n",
       "2019-09-09   10316.62   10475.54   10077.22   10307.00   14824.373\n",
       "2019-09-10   10307.00   10382.97    9940.87   10102.02    9068.955\n",
       "2019-09-11   10094.27   10293.11    9884.31   10159.55   10897.922\n",
       "2019-09-12   10163.06   10450.13   10042.12   10415.13   15609.634\n",
       "...               ...        ...        ...        ...         ...\n",
       "2025-06-16  105534.70  108900.00  104920.00  106750.10  166813.219\n",
       "2025-06-17  106750.10  107727.40  103300.00  104508.00  226051.863\n",
       "2025-06-18  104508.00  105500.00  103426.10  104832.80  172706.399\n",
       "2025-06-19  104832.80  105185.70  103870.30  104607.10   87710.605\n",
       "2025-06-20  104607.10  106486.20  102255.30  103246.10  199102.135\n",
       "\n",
       "[2113 rows x 5 columns]"
      ]
     },
     "execution_count": 5,
     "metadata": {},
     "output_type": "execute_result"
    }
   ],
   "source": [
    "df_btc_1h = exchange.load_data(\n",
    "    coin=\"BTC/USDT:USDT\", \n",
    "    interval=\"1d\"\n",
    ")\n",
    "\n",
    "print(df_btc_1h.shape)\n",
    "df_btc_1h"
   ]
  },
  {
   "cell_type": "code",
   "execution_count": 6,
   "id": "6541e3e3",
   "metadata": {},
   "outputs": [
    {
     "data": {
      "text/html": [
       "<div>\n",
       "<style scoped>\n",
       "    .dataframe tbody tr th:only-of-type {\n",
       "        vertical-align: middle;\n",
       "    }\n",
       "\n",
       "    .dataframe tbody tr th {\n",
       "        vertical-align: top;\n",
       "    }\n",
       "\n",
       "    .dataframe thead th {\n",
       "        text-align: right;\n",
       "    }\n",
       "</style>\n",
       "<table border=\"1\" class=\"dataframe\">\n",
       "  <thead>\n",
       "    <tr style=\"text-align: right;\">\n",
       "      <th></th>\n",
       "      <th>exchange</th>\n",
       "      <th>timeframe</th>\n",
       "      <th>pair</th>\n",
       "      <th>occurences</th>\n",
       "      <th>start_date</th>\n",
       "      <th>end_date</th>\n",
       "    </tr>\n",
       "  </thead>\n",
       "  <tbody>\n",
       "    <tr>\n",
       "      <th>0</th>\n",
       "      <td>binance</td>\n",
       "      <td>12h</td>\n",
       "      <td>BTC-USDT-USDT</td>\n",
       "      <td>4228</td>\n",
       "      <td>2019-09-08 14:00:00</td>\n",
       "      <td>2025-06-21 14:00:00</td>\n",
       "    </tr>\n",
       "    <tr>\n",
       "      <th>1</th>\n",
       "      <td>binance</td>\n",
       "      <td>12h</td>\n",
       "      <td>ETH-USDT-USDT</td>\n",
       "      <td>4069</td>\n",
       "      <td>2019-11-27 01:00:00</td>\n",
       "      <td>2025-06-21 14:00:00</td>\n",
       "    </tr>\n",
       "    <tr>\n",
       "      <th>2</th>\n",
       "      <td>binance</td>\n",
       "      <td>12h</td>\n",
       "      <td>SOL-USDT-USDT</td>\n",
       "      <td>3485</td>\n",
       "      <td>2020-09-14 02:00:00</td>\n",
       "      <td>2025-06-21 14:00:00</td>\n",
       "    </tr>\n",
       "    <tr>\n",
       "      <th>3</th>\n",
       "      <td>binance</td>\n",
       "      <td>1d</td>\n",
       "      <td>BTC-USDT-USDT</td>\n",
       "      <td>2115</td>\n",
       "      <td>2019-09-08 02:00:00</td>\n",
       "      <td>2025-06-21 02:00:00</td>\n",
       "    </tr>\n",
       "    <tr>\n",
       "      <th>4</th>\n",
       "      <td>binance</td>\n",
       "      <td>1d</td>\n",
       "      <td>ETH-USDT-USDT</td>\n",
       "      <td>2035</td>\n",
       "      <td>2019-11-27 01:00:00</td>\n",
       "      <td>2025-06-21 02:00:00</td>\n",
       "    </tr>\n",
       "    <tr>\n",
       "      <th>5</th>\n",
       "      <td>binance</td>\n",
       "      <td>1d</td>\n",
       "      <td>SOL-USDT-USDT</td>\n",
       "      <td>1743</td>\n",
       "      <td>2020-09-14 02:00:00</td>\n",
       "      <td>2025-06-21 02:00:00</td>\n",
       "    </tr>\n",
       "    <tr>\n",
       "      <th>6</th>\n",
       "      <td>binance</td>\n",
       "      <td>1h</td>\n",
       "      <td>BTC-USDT-USDT</td>\n",
       "      <td>50717</td>\n",
       "      <td>2019-09-08 19:00:00</td>\n",
       "      <td>2025-06-21 22:00:00</td>\n",
       "    </tr>\n",
       "    <tr>\n",
       "      <th>7</th>\n",
       "      <td>binance</td>\n",
       "      <td>1h</td>\n",
       "      <td>ETH-USDT-USDT</td>\n",
       "      <td>48807</td>\n",
       "      <td>2019-11-27 08:00:00</td>\n",
       "      <td>2025-06-21 22:00:00</td>\n",
       "    </tr>\n",
       "    <tr>\n",
       "      <th>8</th>\n",
       "      <td>binance</td>\n",
       "      <td>1h</td>\n",
       "      <td>SOL-USDT-USDT</td>\n",
       "      <td>41799</td>\n",
       "      <td>2020-09-14 09:00:00</td>\n",
       "      <td>2025-06-21 22:00:00</td>\n",
       "    </tr>\n",
       "    <tr>\n",
       "      <th>9</th>\n",
       "      <td>binance</td>\n",
       "      <td>1w</td>\n",
       "      <td>BTC-USDT-USDT</td>\n",
       "      <td>304</td>\n",
       "      <td>2019-09-02 02:00:00</td>\n",
       "      <td>2025-06-16 02:00:00</td>\n",
       "    </tr>\n",
       "    <tr>\n",
       "      <th>10</th>\n",
       "      <td>binance</td>\n",
       "      <td>1w</td>\n",
       "      <td>ETH-USDT-USDT</td>\n",
       "      <td>292</td>\n",
       "      <td>2019-11-25 01:00:00</td>\n",
       "      <td>2025-06-16 02:00:00</td>\n",
       "    </tr>\n",
       "    <tr>\n",
       "      <th>11</th>\n",
       "      <td>binance</td>\n",
       "      <td>1w</td>\n",
       "      <td>SOL-USDT-USDT</td>\n",
       "      <td>250</td>\n",
       "      <td>2020-09-14 02:00:00</td>\n",
       "      <td>2025-06-16 02:00:00</td>\n",
       "    </tr>\n",
       "    <tr>\n",
       "      <th>12</th>\n",
       "      <td>binance</td>\n",
       "      <td>2h</td>\n",
       "      <td>BTC-USDT-USDT</td>\n",
       "      <td>25360</td>\n",
       "      <td>2019-09-08 18:00:00</td>\n",
       "      <td>2025-06-21 22:00:00</td>\n",
       "    </tr>\n",
       "    <tr>\n",
       "      <th>13</th>\n",
       "      <td>binance</td>\n",
       "      <td>2h</td>\n",
       "      <td>ETH-USDT-USDT</td>\n",
       "      <td>24405</td>\n",
       "      <td>2019-11-27 07:00:00</td>\n",
       "      <td>2025-06-21 22:00:00</td>\n",
       "    </tr>\n",
       "    <tr>\n",
       "      <th>14</th>\n",
       "      <td>binance</td>\n",
       "      <td>2h</td>\n",
       "      <td>SOL-USDT-USDT</td>\n",
       "      <td>20901</td>\n",
       "      <td>2020-09-14 08:00:00</td>\n",
       "      <td>2025-06-21 22:00:00</td>\n",
       "    </tr>\n",
       "    <tr>\n",
       "      <th>15</th>\n",
       "      <td>binance</td>\n",
       "      <td>30m</td>\n",
       "      <td>BTC-USDT-USDT</td>\n",
       "      <td>101431</td>\n",
       "      <td>2019-09-08 19:30:00</td>\n",
       "      <td>2025-06-21 22:00:00</td>\n",
       "    </tr>\n",
       "    <tr>\n",
       "      <th>16</th>\n",
       "      <td>binance</td>\n",
       "      <td>30m</td>\n",
       "      <td>ETH-USDT-USDT</td>\n",
       "      <td>97611</td>\n",
       "      <td>2019-11-27 08:30:00</td>\n",
       "      <td>2025-06-21 22:00:00</td>\n",
       "    </tr>\n",
       "    <tr>\n",
       "      <th>17</th>\n",
       "      <td>binance</td>\n",
       "      <td>30m</td>\n",
       "      <td>SOL-USDT-USDT</td>\n",
       "      <td>83596</td>\n",
       "      <td>2020-09-14 09:00:00</td>\n",
       "      <td>2025-06-21 22:00:00</td>\n",
       "    </tr>\n",
       "    <tr>\n",
       "      <th>18</th>\n",
       "      <td>binance</td>\n",
       "      <td>4h</td>\n",
       "      <td>BTC-USDT-USDT</td>\n",
       "      <td>12681</td>\n",
       "      <td>2019-09-08 18:00:00</td>\n",
       "      <td>2025-06-21 22:00:00</td>\n",
       "    </tr>\n",
       "    <tr>\n",
       "      <th>19</th>\n",
       "      <td>binance</td>\n",
       "      <td>4h</td>\n",
       "      <td>ETH-USDT-USDT</td>\n",
       "      <td>12204</td>\n",
       "      <td>2019-11-27 05:00:00</td>\n",
       "      <td>2025-06-21 22:00:00</td>\n",
       "    </tr>\n",
       "    <tr>\n",
       "      <th>20</th>\n",
       "      <td>binance</td>\n",
       "      <td>4h</td>\n",
       "      <td>SOL-USDT-USDT</td>\n",
       "      <td>10452</td>\n",
       "      <td>2020-09-14 06:00:00</td>\n",
       "      <td>2025-06-21 22:00:00</td>\n",
       "    </tr>\n",
       "    <tr>\n",
       "      <th>21</th>\n",
       "      <td>data_with_indicators</td>\n",
       "      <td>12h</td>\n",
       "      <td>BTC-USDT-USDT</td>\n",
       "      <td>4102</td>\n",
       "      <td>2019-09-25 02:00:00</td>\n",
       "      <td>2025-05-06 14:00:00</td>\n",
       "    </tr>\n",
       "    <tr>\n",
       "      <th>22</th>\n",
       "      <td>data_with_indicators</td>\n",
       "      <td>12h</td>\n",
       "      <td>ETH-USDT-USDT</td>\n",
       "      <td>3943</td>\n",
       "      <td>2019-12-13 13:00:00</td>\n",
       "      <td>2025-05-06 14:00:00</td>\n",
       "    </tr>\n",
       "    <tr>\n",
       "      <th>23</th>\n",
       "      <td>data_with_indicators</td>\n",
       "      <td>12h</td>\n",
       "      <td>SOL-USDT-USDT</td>\n",
       "      <td>3359</td>\n",
       "      <td>2020-09-30 14:00:00</td>\n",
       "      <td>2025-05-06 14:00:00</td>\n",
       "    </tr>\n",
       "    <tr>\n",
       "      <th>24</th>\n",
       "      <td>data_with_indicators</td>\n",
       "      <td>1d</td>\n",
       "      <td>BTC-USDT-USDT</td>\n",
       "      <td>2028</td>\n",
       "      <td>2019-10-11 02:00:00</td>\n",
       "      <td>2025-04-29 02:00:00</td>\n",
       "    </tr>\n",
       "    <tr>\n",
       "      <th>25</th>\n",
       "      <td>data_with_indicators</td>\n",
       "      <td>1d</td>\n",
       "      <td>ETH-USDT-USDT</td>\n",
       "      <td>1948</td>\n",
       "      <td>2019-12-30 01:00:00</td>\n",
       "      <td>2025-04-29 02:00:00</td>\n",
       "    </tr>\n",
       "    <tr>\n",
       "      <th>26</th>\n",
       "      <td>data_with_indicators</td>\n",
       "      <td>1d</td>\n",
       "      <td>SOL-USDT-USDT</td>\n",
       "      <td>1656</td>\n",
       "      <td>2020-10-17 02:00:00</td>\n",
       "      <td>2025-04-29 02:00:00</td>\n",
       "    </tr>\n",
       "    <tr>\n",
       "      <th>27</th>\n",
       "      <td>data_with_indicators</td>\n",
       "      <td>1h</td>\n",
       "      <td>BTC-USDT-USDT</td>\n",
       "      <td>49725</td>\n",
       "      <td>2019-09-10 04:00:00</td>\n",
       "      <td>2025-05-13 00:00:00</td>\n",
       "    </tr>\n",
       "    <tr>\n",
       "      <th>28</th>\n",
       "      <td>data_with_indicators</td>\n",
       "      <td>1h</td>\n",
       "      <td>ETH-USDT-USDT</td>\n",
       "      <td>47815</td>\n",
       "      <td>2019-11-28 17:00:00</td>\n",
       "      <td>2025-05-13 00:00:00</td>\n",
       "    </tr>\n",
       "    <tr>\n",
       "      <th>29</th>\n",
       "      <td>data_with_indicators</td>\n",
       "      <td>1h</td>\n",
       "      <td>SOL-USDT-USDT</td>\n",
       "      <td>40807</td>\n",
       "      <td>2020-09-15 18:00:00</td>\n",
       "      <td>2025-05-13 00:00:00</td>\n",
       "    </tr>\n",
       "    <tr>\n",
       "      <th>30</th>\n",
       "      <td>data_with_indicators</td>\n",
       "      <td>1w</td>\n",
       "      <td>BTC-USDT-USDT</td>\n",
       "      <td>251</td>\n",
       "      <td>2020-04-20 02:00:00</td>\n",
       "      <td>2025-02-03 01:00:00</td>\n",
       "    </tr>\n",
       "    <tr>\n",
       "      <th>31</th>\n",
       "      <td>data_with_indicators</td>\n",
       "      <td>1w</td>\n",
       "      <td>ETH-USDT-USDT</td>\n",
       "      <td>239</td>\n",
       "      <td>2020-07-13 02:00:00</td>\n",
       "      <td>2025-02-03 01:00:00</td>\n",
       "    </tr>\n",
       "    <tr>\n",
       "      <th>32</th>\n",
       "      <td>data_with_indicators</td>\n",
       "      <td>1w</td>\n",
       "      <td>SOL-USDT-USDT</td>\n",
       "      <td>197</td>\n",
       "      <td>2021-05-03 02:00:00</td>\n",
       "      <td>2025-02-03 01:00:00</td>\n",
       "    </tr>\n",
       "    <tr>\n",
       "      <th>33</th>\n",
       "      <td>data_with_indicators</td>\n",
       "      <td>2h</td>\n",
       "      <td>BTC-USDT-USDT</td>\n",
       "      <td>24840</td>\n",
       "      <td>2019-09-11 12:00:00</td>\n",
       "      <td>2025-05-12 10:00:00</td>\n",
       "    </tr>\n",
       "    <tr>\n",
       "      <th>34</th>\n",
       "      <td>data_with_indicators</td>\n",
       "      <td>2h</td>\n",
       "      <td>ETH-USDT-USDT</td>\n",
       "      <td>23885</td>\n",
       "      <td>2019-11-30 01:00:00</td>\n",
       "      <td>2025-05-12 10:00:00</td>\n",
       "    </tr>\n",
       "    <tr>\n",
       "      <th>35</th>\n",
       "      <td>data_with_indicators</td>\n",
       "      <td>2h</td>\n",
       "      <td>SOL-USDT-USDT</td>\n",
       "      <td>20381</td>\n",
       "      <td>2020-09-17 02:00:00</td>\n",
       "      <td>2025-05-12 10:00:00</td>\n",
       "    </tr>\n",
       "    <tr>\n",
       "      <th>36</th>\n",
       "      <td>data_with_indicators</td>\n",
       "      <td>30m</td>\n",
       "      <td>BTC-USDT-USDT</td>\n",
       "      <td>99496</td>\n",
       "      <td>2019-09-09 12:00:00</td>\n",
       "      <td>2025-05-13 07:30:00</td>\n",
       "    </tr>\n",
       "    <tr>\n",
       "      <th>37</th>\n",
       "      <td>data_with_indicators</td>\n",
       "      <td>30m</td>\n",
       "      <td>ETH-USDT-USDT</td>\n",
       "      <td>95676</td>\n",
       "      <td>2019-11-28 01:00:00</td>\n",
       "      <td>2025-05-13 07:30:00</td>\n",
       "    </tr>\n",
       "    <tr>\n",
       "      <th>38</th>\n",
       "      <td>data_with_indicators</td>\n",
       "      <td>30m</td>\n",
       "      <td>SOL-USDT-USDT</td>\n",
       "      <td>81661</td>\n",
       "      <td>2020-09-15 01:30:00</td>\n",
       "      <td>2025-05-13 07:30:00</td>\n",
       "    </tr>\n",
       "    <tr>\n",
       "      <th>39</th>\n",
       "      <td>data_with_indicators</td>\n",
       "      <td>4h</td>\n",
       "      <td>BTC-USDT-USDT</td>\n",
       "      <td>12397</td>\n",
       "      <td>2019-09-14 06:00:00</td>\n",
       "      <td>2025-05-11 06:00:00</td>\n",
       "    </tr>\n",
       "    <tr>\n",
       "      <th>40</th>\n",
       "      <td>data_with_indicators</td>\n",
       "      <td>4h</td>\n",
       "      <td>ETH-USDT-USDT</td>\n",
       "      <td>11920</td>\n",
       "      <td>2019-12-02 17:00:00</td>\n",
       "      <td>2025-05-11 06:00:00</td>\n",
       "    </tr>\n",
       "    <tr>\n",
       "      <th>41</th>\n",
       "      <td>data_with_indicators</td>\n",
       "      <td>4h</td>\n",
       "      <td>SOL-USDT-USDT</td>\n",
       "      <td>10168</td>\n",
       "      <td>2020-09-19 18:00:00</td>\n",
       "      <td>2025-05-11 06:00:00</td>\n",
       "    </tr>\n",
       "  </tbody>\n",
       "</table>\n",
       "</div>"
      ],
      "text/plain": [
       "                exchange timeframe           pair  occurences  \\\n",
       "0                binance       12h  BTC-USDT-USDT        4228   \n",
       "1                binance       12h  ETH-USDT-USDT        4069   \n",
       "2                binance       12h  SOL-USDT-USDT        3485   \n",
       "3                binance        1d  BTC-USDT-USDT        2115   \n",
       "4                binance        1d  ETH-USDT-USDT        2035   \n",
       "5                binance        1d  SOL-USDT-USDT        1743   \n",
       "6                binance        1h  BTC-USDT-USDT       50717   \n",
       "7                binance        1h  ETH-USDT-USDT       48807   \n",
       "8                binance        1h  SOL-USDT-USDT       41799   \n",
       "9                binance        1w  BTC-USDT-USDT         304   \n",
       "10               binance        1w  ETH-USDT-USDT         292   \n",
       "11               binance        1w  SOL-USDT-USDT         250   \n",
       "12               binance        2h  BTC-USDT-USDT       25360   \n",
       "13               binance        2h  ETH-USDT-USDT       24405   \n",
       "14               binance        2h  SOL-USDT-USDT       20901   \n",
       "15               binance       30m  BTC-USDT-USDT      101431   \n",
       "16               binance       30m  ETH-USDT-USDT       97611   \n",
       "17               binance       30m  SOL-USDT-USDT       83596   \n",
       "18               binance        4h  BTC-USDT-USDT       12681   \n",
       "19               binance        4h  ETH-USDT-USDT       12204   \n",
       "20               binance        4h  SOL-USDT-USDT       10452   \n",
       "21  data_with_indicators       12h  BTC-USDT-USDT        4102   \n",
       "22  data_with_indicators       12h  ETH-USDT-USDT        3943   \n",
       "23  data_with_indicators       12h  SOL-USDT-USDT        3359   \n",
       "24  data_with_indicators        1d  BTC-USDT-USDT        2028   \n",
       "25  data_with_indicators        1d  ETH-USDT-USDT        1948   \n",
       "26  data_with_indicators        1d  SOL-USDT-USDT        1656   \n",
       "27  data_with_indicators        1h  BTC-USDT-USDT       49725   \n",
       "28  data_with_indicators        1h  ETH-USDT-USDT       47815   \n",
       "29  data_with_indicators        1h  SOL-USDT-USDT       40807   \n",
       "30  data_with_indicators        1w  BTC-USDT-USDT         251   \n",
       "31  data_with_indicators        1w  ETH-USDT-USDT         239   \n",
       "32  data_with_indicators        1w  SOL-USDT-USDT         197   \n",
       "33  data_with_indicators        2h  BTC-USDT-USDT       24840   \n",
       "34  data_with_indicators        2h  ETH-USDT-USDT       23885   \n",
       "35  data_with_indicators        2h  SOL-USDT-USDT       20381   \n",
       "36  data_with_indicators       30m  BTC-USDT-USDT       99496   \n",
       "37  data_with_indicators       30m  ETH-USDT-USDT       95676   \n",
       "38  data_with_indicators       30m  SOL-USDT-USDT       81661   \n",
       "39  data_with_indicators        4h  BTC-USDT-USDT       12397   \n",
       "40  data_with_indicators        4h  ETH-USDT-USDT       11920   \n",
       "41  data_with_indicators        4h  SOL-USDT-USDT       10168   \n",
       "\n",
       "             start_date             end_date  \n",
       "0   2019-09-08 14:00:00  2025-06-21 14:00:00  \n",
       "1   2019-11-27 01:00:00  2025-06-21 14:00:00  \n",
       "2   2020-09-14 02:00:00  2025-06-21 14:00:00  \n",
       "3   2019-09-08 02:00:00  2025-06-21 02:00:00  \n",
       "4   2019-11-27 01:00:00  2025-06-21 02:00:00  \n",
       "5   2020-09-14 02:00:00  2025-06-21 02:00:00  \n",
       "6   2019-09-08 19:00:00  2025-06-21 22:00:00  \n",
       "7   2019-11-27 08:00:00  2025-06-21 22:00:00  \n",
       "8   2020-09-14 09:00:00  2025-06-21 22:00:00  \n",
       "9   2019-09-02 02:00:00  2025-06-16 02:00:00  \n",
       "10  2019-11-25 01:00:00  2025-06-16 02:00:00  \n",
       "11  2020-09-14 02:00:00  2025-06-16 02:00:00  \n",
       "12  2019-09-08 18:00:00  2025-06-21 22:00:00  \n",
       "13  2019-11-27 07:00:00  2025-06-21 22:00:00  \n",
       "14  2020-09-14 08:00:00  2025-06-21 22:00:00  \n",
       "15  2019-09-08 19:30:00  2025-06-21 22:00:00  \n",
       "16  2019-11-27 08:30:00  2025-06-21 22:00:00  \n",
       "17  2020-09-14 09:00:00  2025-06-21 22:00:00  \n",
       "18  2019-09-08 18:00:00  2025-06-21 22:00:00  \n",
       "19  2019-11-27 05:00:00  2025-06-21 22:00:00  \n",
       "20  2020-09-14 06:00:00  2025-06-21 22:00:00  \n",
       "21  2019-09-25 02:00:00  2025-05-06 14:00:00  \n",
       "22  2019-12-13 13:00:00  2025-05-06 14:00:00  \n",
       "23  2020-09-30 14:00:00  2025-05-06 14:00:00  \n",
       "24  2019-10-11 02:00:00  2025-04-29 02:00:00  \n",
       "25  2019-12-30 01:00:00  2025-04-29 02:00:00  \n",
       "26  2020-10-17 02:00:00  2025-04-29 02:00:00  \n",
       "27  2019-09-10 04:00:00  2025-05-13 00:00:00  \n",
       "28  2019-11-28 17:00:00  2025-05-13 00:00:00  \n",
       "29  2020-09-15 18:00:00  2025-05-13 00:00:00  \n",
       "30  2020-04-20 02:00:00  2025-02-03 01:00:00  \n",
       "31  2020-07-13 02:00:00  2025-02-03 01:00:00  \n",
       "32  2021-05-03 02:00:00  2025-02-03 01:00:00  \n",
       "33  2019-09-11 12:00:00  2025-05-12 10:00:00  \n",
       "34  2019-11-30 01:00:00  2025-05-12 10:00:00  \n",
       "35  2020-09-17 02:00:00  2025-05-12 10:00:00  \n",
       "36  2019-09-09 12:00:00  2025-05-13 07:30:00  \n",
       "37  2019-11-28 01:00:00  2025-05-13 07:30:00  \n",
       "38  2020-09-15 01:30:00  2025-05-13 07:30:00  \n",
       "39  2019-09-14 06:00:00  2025-05-11 06:00:00  \n",
       "40  2019-12-02 17:00:00  2025-05-11 06:00:00  \n",
       "41  2020-09-19 18:00:00  2025-05-11 06:00:00  "
      ]
     },
     "execution_count": 6,
     "metadata": {},
     "output_type": "execute_result"
    }
   ],
   "source": [
    "exchange.explore_data()"
   ]
  }
 ],
 "metadata": {
  "kernelspec": {
   "display_name": "MoneyTime",
   "language": "python",
   "name": "python3"
  },
  "language_info": {
   "codemirror_mode": {
    "name": "ipython",
    "version": 3
   },
   "file_extension": ".py",
   "mimetype": "text/x-python",
   "name": "python",
   "nbconvert_exporter": "python",
   "pygments_lexer": "ipython3",
   "version": "3.11.4"
  }
 },
 "nbformat": 4,
 "nbformat_minor": 5
}
