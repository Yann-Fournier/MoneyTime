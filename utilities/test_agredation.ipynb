{
 "cells": [
  {
   "cell_type": "code",
   "execution_count": 1,
   "id": "9b581411",
   "metadata": {},
   "outputs": [],
   "source": [
    "def prepare_input_from_df(df, feature_cols, time_steps=60):\n",
    "\n",
    "    df = df.copy()\n",
    "    df = df[feature_cols].dropna()\n",
    "    data = df.tail(time_steps)\n",
    "    return data.values.reshape(1, time_steps, len(feature_cols)).astype(np.float32)\n"
   ]
  },
  {
   "cell_type": "code",
   "execution_count": 2,
   "id": "acdf861d",
   "metadata": {},
   "outputs": [],
   "source": [
    "from collections import Counter\n",
    "\n",
    "def agreger_predictions(predictions):\n",
    "\n",
    "    compteur = Counter(predictions)\n",
    "    top = compteur.most_common()\n",
    "    if len(top) > 1 and top[0][1] == top[1][1]:\n",
    "        return 99  # Indécis\n",
    "    return top[0][0]\n"
   ]
  },
  {
   "cell_type": "code",
   "execution_count": 3,
   "id": "df7fc299",
   "metadata": {},
   "outputs": [],
   "source": [
    "from tensorflow.keras.models import load_model\n",
    "import numpy as np\n",
    "import os\n",
    "\n",
    "def predict_court_terme(df, feature_cols):\n",
    "\n",
    "    model_paths = {\n",
    "        \"1h\": \"models/lstm_btc_10_1h.h5\",\n",
    "        \"2h\": \"models/lstm_btc_10_2h.h5\",\n",
    "        \"4h\": \"models/lstm_btc_10_4h.h5\"\n",
    "    }\n",
    "\n",
    "    # model_paths = {\n",
    "    #     \"1w\": \"models/lstm_btc_MT_1w.h5\",\n",
    "    #     \"12h\": \"models/lstm_btc_MT_12h.h5\",\n",
    "    #     \"1d\": \"models/lstm_btc_MT_1d.h5\"\n",
    "    # }\n",
    "    predictions = []\n",
    "\n",
    "    for tf, path in model_paths.items():\n",
    "        if not os.path.exists(path):\n",
    "            print(f\"Modèle manquant : {path}\")\n",
    "            continue\n",
    "\n",
    "        model = load_model(path)\n",
    "        input_data = prepare_input_from_df(df, feature_cols, time_steps=60)\n",
    "        y_pred = model.predict(input_data)\n",
    "        y_pred = int(np.round(y_pred).flatten()[0])  # -1, 0 ou 1\n",
    "        predictions.append(y_pred)\n",
    "\n",
    "        print(f\"{tf} → prédiction : {y_pred}\")\n",
    "\n",
    "    if not predictions:\n",
    "        return 99  # Aucun modèle dispo\n",
    "\n",
    "    return agreger_predictions(predictions)\n"
   ]
  },
  {
   "cell_type": "code",
   "execution_count": 4,
   "id": "dfdf2b39",
   "metadata": {},
   "outputs": [
    {
     "name": "stderr",
     "output_type": "stream",
     "text": [
      "<>:8: SyntaxWarning: invalid escape sequence '\\d'\n",
      "<>:8: SyntaxWarning: invalid escape sequence '\\d'\n",
      "C:\\Users\\Elodie\\AppData\\Local\\Temp\\ipykernel_1404\\108119891.py:8: SyntaxWarning: invalid escape sequence '\\d'\n",
      "  df = pd.read_csv(\"database\\data_with_indicators\\\\1w\\ETH-USDT-USDT.csv\")\n",
      "WARNING:absl:Compiled the loaded model, but the compiled metrics have yet to be built. `model.compile_metrics` will be empty until you train or evaluate the model.\n"
     ]
    },
    {
     "name": "stdout",
     "output_type": "stream",
     "text": [
      "\u001b[1m1/1\u001b[0m \u001b[32m━━━━━━━━━━━━━━━━━━━━\u001b[0m\u001b[37m\u001b[0m \u001b[1m0s\u001b[0m 148ms/step\n"
     ]
    },
    {
     "name": "stderr",
     "output_type": "stream",
     "text": [
      "WARNING:absl:Compiled the loaded model, but the compiled metrics have yet to be built. `model.compile_metrics` will be empty until you train or evaluate the model.\n"
     ]
    },
    {
     "name": "stdout",
     "output_type": "stream",
     "text": [
      "1h → prédiction : 0\n",
      "\u001b[1m1/1\u001b[0m \u001b[32m━━━━━━━━━━━━━━━━━━━━\u001b[0m\u001b[37m\u001b[0m \u001b[1m0s\u001b[0m 122ms/step\n",
      "2h → prédiction : 0\n"
     ]
    },
    {
     "name": "stderr",
     "output_type": "stream",
     "text": [
      "WARNING:absl:Compiled the loaded model, but the compiled metrics have yet to be built. `model.compile_metrics` will be empty until you train or evaluate the model.\n"
     ]
    },
    {
     "name": "stdout",
     "output_type": "stream",
     "text": [
      "\u001b[1m1/1\u001b[0m \u001b[32m━━━━━━━━━━━━━━━━━━━━\u001b[0m\u001b[37m\u001b[0m \u001b[1m0s\u001b[0m 123ms/step\n",
      "4h → prédiction : 0\n",
      "Prédiction court terme : 0\n"
     ]
    }
   ],
   "source": [
    "import pandas as pd\n",
    "\n",
    "features = ['open','high','low','close','volume','rsi','rsima','macd','macd_diff','macd_signal',\n",
    "            'stoch_%K','stoch_%D','lower_band','higher_band','ma_band','sma9','sma21',\n",
    "            'Avg_day','Avg_corps','Avg_meches']\n",
    "\n",
    "# Charger tes données récentes (par ex. df_live.csv)\n",
    "df = pd.read_csv(\"database\\data_with_indicators\\\\1w\\ETH-USDT-USDT.csv\")\n",
    "\n",
    "# Appliquer la prédiction\n",
    "prediction = predict_court_terme(df, features)\n",
    "print(\"Prédiction court terme :\", prediction)\n"
   ]
  }
 ],
 "metadata": {
  "kernelspec": {
   "display_name": ".venv",
   "language": "python",
   "name": "python3"
  },
  "language_info": {
   "codemirror_mode": {
    "name": "ipython",
    "version": 3
   },
   "file_extension": ".py",
   "mimetype": "text/x-python",
   "name": "python",
   "nbconvert_exporter": "python",
   "pygments_lexer": "ipython3",
   "version": "3.12.4"
  }
 },
 "nbformat": 4,
 "nbformat_minor": 5
}
