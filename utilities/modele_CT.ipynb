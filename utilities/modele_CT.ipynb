{
 "cells": [
  {
   "cell_type": "code",
   "execution_count": 21,
   "metadata": {},
   "outputs": [],
   "source": [
    "import pandas as pd\n",
    "import numpy as np\n",
    "import matplotlib.pyplot as plt\n",
    "import seaborn as sns\n",
    "\n",
    "from sklearn.preprocessing import MinMaxScaler\n",
    "from sklearn.model_selection import train_test_split\n",
    "from tensorflow.keras.models import Sequential\n",
    "from tensorflow.keras.layers import LSTM, Dense, Dropout\n",
    "import os\n",
    "\n"
   ]
  },
  {
   "cell_type": "code",
   "execution_count": 22,
   "metadata": {},
   "outputs": [
    {
     "name": "stderr",
     "output_type": "stream",
     "text": [
      "<>:5: SyntaxWarning: invalid escape sequence '\\d'\n",
      "<>:6: SyntaxWarning: invalid escape sequence '\\d'\n",
      "<>:7: SyntaxWarning: invalid escape sequence '\\d'\n",
      "<>:5: SyntaxWarning: invalid escape sequence '\\d'\n",
      "<>:6: SyntaxWarning: invalid escape sequence '\\d'\n",
      "<>:7: SyntaxWarning: invalid escape sequence '\\d'\n",
      "C:\\Users\\Elodie\\AppData\\Local\\Temp\\ipykernel_18404\\2658866293.py:5: SyntaxWarning: invalid escape sequence '\\d'\n",
      "  \"1h\": \"database\\data_with_indicators\\\\1h\\BTC-USDT-USDT.csv\",\n",
      "C:\\Users\\Elodie\\AppData\\Local\\Temp\\ipykernel_18404\\2658866293.py:6: SyntaxWarning: invalid escape sequence '\\d'\n",
      "  \"2h\": \"database\\data_with_indicators\\\\2h\\BTC-USDT-USDT.csv\",\n",
      "C:\\Users\\Elodie\\AppData\\Local\\Temp\\ipykernel_18404\\2658866293.py:7: SyntaxWarning: invalid escape sequence '\\d'\n",
      "  \"4h\": \"database\\data_with_indicators\\\\4h\\BTC-USDT-USDT.csv\"\n"
     ]
    }
   ],
   "source": [
    "import pandas as pd\n",
    "\n",
    "# Dictionnaire des timeframes\n",
    "timeframes = {\n",
    "    \"1h\": \"database\\data_with_indicators\\\\1h\\BTC-USDT-USDT.csv\",\n",
    "    \"2h\": \"database\\data_with_indicators\\\\2h\\BTC-USDT-USDT.csv\",\n",
    "    \"4h\": \"database\\data_with_indicators\\\\4h\\BTC-USDT-USDT.csv\"\n",
    "}\n"
   ]
  },
  {
   "cell_type": "code",
   "execution_count": 23,
   "metadata": {},
   "outputs": [],
   "source": [
    "def preprocess(df, features, label='Label_CT', time_steps=60):\n",
    "    df = df.dropna()\n",
    "    X = df[features]\n",
    "    y = df[label]\n",
    "\n",
    "    scaler = MinMaxScaler()\n",
    "    X_scaled = scaler.fit_transform(X)\n",
    "\n",
    "    X_seq, y_seq = [], []\n",
    "    for i in range(time_steps, len(X_scaled)):\n",
    "        X_seq.append(X_scaled[i-time_steps:i])\n",
    "        y_seq.append(y.iloc[i])\n",
    "    return np.array(X_seq), np.array(y_seq)\n"
   ]
  },
  {
   "cell_type": "code",
   "execution_count": 24,
   "metadata": {},
   "outputs": [],
   "source": [
    "def build_lstm_model(input_shape):\n",
    "    model = Sequential()\n",
    "    model.add(LSTM(64, return_sequences=True, input_shape=input_shape))\n",
    "    model.add(Dropout(0.2))\n",
    "    model.add(LSTM(32))\n",
    "    model.add(Dropout(0.2))\n",
    "    model.add(Dense(1, activation='sigmoid'))\n",
    "    model.compile(optimizer='adam', loss='binary_crossentropy', metrics=['accuracy'])\n",
    "    return model\n"
   ]
  },
  {
   "cell_type": "code",
   "execution_count": null,
   "metadata": {},
   "outputs": [],
   "source": [
    "def creer_label_variation(df, prix_col='close', seuil_pct=0.05):\n",
    "    \"\"\"\n",
    "    Crée une colonne Label_CT selon la variation en % du prix (close) entre j et j-1.\n",
    "    \n",
    "    Args:\n",
    "        df (pd.DataFrame): dataframe avec colonne prix\n",
    "        prix_col (str): nom de la colonne prix (ex: 'close')\n",
    "        seuil_pct (float): seuil en % (ex: 0.05 pour 0.05%)\n",
    "        \n",
    "    Returns:\n",
    "        pd.Series: labels -1, 0, 1\n",
    "    \"\"\"\n",
    "    variation_pct = df[prix_col].pct_change() * 100 \n",
    "    labels = variation_pct.apply(lambda x: 1 if x > seuil_pct else (-1 if x < -seuil_pct else 0))\n",
    "    labels.iloc[0] = 0  # premier label non défini, on met stable par défaut\n",
    "    return labels\n"
   ]
  },
  {
   "cell_type": "code",
   "execution_count": 28,
   "metadata": {},
   "outputs": [
    {
     "name": "stdout",
     "output_type": "stream",
     "text": [
      "\n",
      "⏱️ Traitement timeframe : 1h\n"
     ]
    },
    {
     "name": "stderr",
     "output_type": "stream",
     "text": [
      "c:\\Users\\Elodie\\Code\\Ynov\\MoneyTime\\.venv\\Lib\\site-packages\\keras\\src\\layers\\rnn\\rnn.py:199: UserWarning: Do not pass an `input_shape`/`input_dim` argument to a layer. When using Sequential models, prefer using an `Input(shape)` object as the first layer in the model instead.\n",
      "  super().__init__(**kwargs)\n"
     ]
    },
    {
     "name": "stdout",
     "output_type": "stream",
     "text": [
      "\u001b[1m318/318\u001b[0m \u001b[32m━━━━━━━━━━━━━━━━━━━━\u001b[0m\u001b[37m\u001b[0m \u001b[1m2s\u001b[0m 5ms/step - accuracy: 0.9305 - loss: 0.2223\n",
      "✅ 1h - Test Accuracy: 0.9432"
     ]
    },
    {
     "name": "stderr",
     "output_type": "stream",
     "text": [
      "WARNING:absl:You are saving your model as an HDF5 file via `model.save()` or `keras.saving.save_model(model)`. This file format is considered legacy. We recommend using instead the native Keras format, e.g. `model.save('my_model.keras')` or `keras.saving.save_model(model, 'my_model.keras')`. \n"
     ]
    },
    {
     "name": "stdout",
     "output_type": "stream",
     "text": [
      "\n",
      "💾 Modèle sauvegardé : models/lstm_btc_10_1h.h5\n",
      "\n",
      "⏱️ Traitement timeframe : 2h\n"
     ]
    },
    {
     "name": "stderr",
     "output_type": "stream",
     "text": [
      "c:\\Users\\Elodie\\Code\\Ynov\\MoneyTime\\.venv\\Lib\\site-packages\\keras\\src\\layers\\rnn\\rnn.py:199: UserWarning: Do not pass an `input_shape`/`input_dim` argument to a layer. When using Sequential models, prefer using an `Input(shape)` object as the first layer in the model instead.\n",
      "  super().__init__(**kwargs)\n"
     ]
    },
    {
     "name": "stdout",
     "output_type": "stream",
     "text": [
      "\u001b[1m159/159\u001b[0m \u001b[32m━━━━━━━━━━━━━━━━━━━━\u001b[0m\u001b[37m\u001b[0m \u001b[1m1s\u001b[0m 5ms/step - accuracy: 0.9396 - loss: 0.2074\n"
     ]
    },
    {
     "name": "stderr",
     "output_type": "stream",
     "text": [
      "WARNING:absl:You are saving your model as an HDF5 file via `model.save()` or `keras.saving.save_model(model)`. This file format is considered legacy. We recommend using instead the native Keras format, e.g. `model.save('my_model.keras')` or `keras.saving.save_model(model, 'my_model.keras')`. \n"
     ]
    },
    {
     "name": "stdout",
     "output_type": "stream",
     "text": [
      "✅ 2h - Test Accuracy: 0.9455\n",
      "💾 Modèle sauvegardé : models/lstm_btc_10_2h.h5\n",
      "\n",
      "⏱️ Traitement timeframe : 4h\n"
     ]
    },
    {
     "name": "stderr",
     "output_type": "stream",
     "text": [
      "c:\\Users\\Elodie\\Code\\Ynov\\MoneyTime\\.venv\\Lib\\site-packages\\keras\\src\\layers\\rnn\\rnn.py:199: UserWarning: Do not pass an `input_shape`/`input_dim` argument to a layer. When using Sequential models, prefer using an `Input(shape)` object as the first layer in the model instead.\n",
      "  super().__init__(**kwargs)\n"
     ]
    },
    {
     "name": "stdout",
     "output_type": "stream",
     "text": [
      "\u001b[1m79/79\u001b[0m \u001b[32m━━━━━━━━━━━━━━━━━━━━\u001b[0m\u001b[37m\u001b[0m \u001b[1m0s\u001b[0m 5ms/step - accuracy: 0.9441 - loss: 0.1636\n"
     ]
    },
    {
     "name": "stderr",
     "output_type": "stream",
     "text": [
      "WARNING:absl:You are saving your model as an HDF5 file via `model.save()` or `keras.saving.save_model(model)`. This file format is considered legacy. We recommend using instead the native Keras format, e.g. `model.save('my_model.keras')` or `keras.saving.save_model(model, 'my_model.keras')`. \n"
     ]
    },
    {
     "name": "stdout",
     "output_type": "stream",
     "text": [
      "✅ 4h - Test Accuracy: 0.9505\n",
      "💾 Modèle sauvegardé : models/lstm_btc_10_4h.h5\n"
     ]
    }
   ],
   "source": [
    "features = ['open','high','low','close','volume','rsi','rsima','macd','macd_diff','macd_signal',\n",
    "            'stoch_%K','stoch_%D','lower_band','higher_band','ma_band','sma9','sma21',\n",
    "            'Avg_day','Avg_corps','Avg_meches']\n",
    "\n",
    "results = {}\n",
    "\n",
    "# Créer un dossier pour stocker les modèles si non existant\n",
    "os.makedirs(\"models\", exist_ok=True)\n",
    "\n",
    "for tf, path in timeframes.items():\n",
    "    print(f\"\\n⏱️ Traitement timeframe : {tf}\")\n",
    "    \n",
    "    df = pd.read_csv(path)\n",
    "    df['date'] = pd.to_datetime(df['date'], unit='ms', errors='coerce')\n",
    "    df = df.dropna(subset=['date'])\n",
    "\n",
    "    X, y = preprocess(df, features, label='Label_CT', time_steps=60)\n",
    "    X_train, X_test, y_train, y_test = train_test_split(X, y, test_size=0.2, shuffle=False)\n",
    "\n",
    "    model = build_lstm_model(input_shape=(X_train.shape[1], X_train.shape[2]))\n",
    "    history = model.fit(X_train, y_train, epochs=10, batch_size=32, validation_split=0.2, verbose=0)\n",
    "\n",
    "    loss, acc = model.evaluate(X_test, y_test)\n",
    "    print(f\"✅ {tf} - Test Accuracy: {acc:.4f}\")\n",
    "\n",
    "    results[tf] = {\n",
    "        'model': model,\n",
    "        'history': history,\n",
    "        'accuracy': acc\n",
    "    }\n",
    "\n",
    "    # Sauvegarde du modèle pour ce timeframe\n",
    "    model_path = f\"models/lstm_btc_10_{tf}.h5\"\n",
    "    model.save(model_path)\n",
    "    print(f\"💾 Modèle sauvegardé : {model_path}\")\n"
   ]
  }
 ],
 "metadata": {
  "kernelspec": {
   "display_name": ".venv",
   "language": "python",
   "name": "python3"
  },
  "language_info": {
   "codemirror_mode": {
    "name": "ipython",
    "version": 3
   },
   "file_extension": ".py",
   "mimetype": "text/x-python",
   "name": "python",
   "nbconvert_exporter": "python",
   "pygments_lexer": "ipython3",
   "version": "3.12.4"
  }
 },
 "nbformat": 4,
 "nbformat_minor": 2
}
