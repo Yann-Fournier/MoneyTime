{
 "cells": [
  {
   "cell_type": "code",
   "id": "9c8824f9",
   "metadata": {
    "ExecuteTime": {
     "end_time": "2025-06-25T07:48:10.908536Z",
     "start_time": "2025-06-25T07:48:10.048824Z"
    }
   },
   "source": [
    "import pandas as pd\n",
    "import os # file handling\n",
    "from Function import add_indicators # pour ajouter les indicateurs au dataframe"
   ],
   "outputs": [],
   "execution_count": 1
  },
  {
   "cell_type": "code",
   "id": "d96c21a5",
   "metadata": {
    "ExecuteTime": {
     "end_time": "2025-06-25T07:48:10.916877Z",
     "start_time": "2025-06-25T07:48:10.912552Z"
    }
   },
   "source": [
    "path = '../database/binance' # chemin du fichier CSV\n",
    "new_path = '../database/data_with_indicators' # chemin du fichier CSV avec les indicateurs\n",
    "if not os.path.exists(new_path): # Création du dossier si il n'existe pas\n",
    "    os.makedirs(new_path)"
   ],
   "outputs": [],
   "execution_count": 2
  },
  {
   "cell_type": "code",
   "id": "11bfc677",
   "metadata": {
    "ExecuteTime": {
     "end_time": "2025-06-25T07:48:11.109363Z",
     "start_time": "2025-06-25T07:48:11.102360Z"
    }
   },
   "source": [
    "def recreate_dataset_with_indicators() -> None:\n",
    "    \"\"\"\n",
    "    Recrée le dataset avec les indicateurs pour chaque fichier CSV dans le dossier binance.\n",
    "    \"\"\"\n",
    "    dossiers_in_binance = [f for f in os.listdir(path) if os.path.isdir(os.path.join(path, f))]\n",
    "    \n",
    "    for dossier in dossiers_in_binance:\n",
    "        chemin_dossier = os.path.join(path, dossier) # chemin complet du dossier\n",
    "        fichiers_csv = [f for f in os.listdir(chemin_dossier) if f.endswith('.csv')] # liste des fichiers CSV dans le dossier\n",
    "        \n",
    "        for fichier_csv in fichiers_csv:\n",
    "            chemin_fichier = os.path.join(chemin_dossier, fichier_csv) # chemin complet du fichier CSV\n",
    "            new_path_dossier = os.path.join(new_path, dossier) # chemin du dossier pour le nouveau fichier CSV\n",
    "            new_path_fichier = os.path.join(new_path, dossier, fichier_csv) # chemin complet du nouveau fichier CSV\n",
    "            \n",
    "            # Création du dossier si il n'existe pas (timeframe)\n",
    "            if not os.path.exists(new_path_dossier):\n",
    "                os.makedirs(new_path_dossier)\n",
    "            \n",
    "            # Chargement du fichier CSV\n",
    "            df = pd.read_csv(chemin_fichier)\n",
    "            \n",
    "            # Ajout des indicateurs\n",
    "            df_with_indicators = add_indicators(df)\n",
    "            \n",
    "            # Sauvegarde du nouveau fichier CSV\n",
    "            df_with_indicators.to_csv(new_path_fichier, index=False, header=True, encoding='utf-8')"
   ],
   "outputs": [],
   "execution_count": 3
  },
  {
   "cell_type": "code",
   "id": "cb3c7839",
   "metadata": {
    "ExecuteTime": {
     "end_time": "2025-06-25T07:48:20.778489Z",
     "start_time": "2025-06-25T07:48:11.118387Z"
    }
   },
   "source": [
    "recreate_dataset_with_indicators()\n",
    "# Temps : 8.8s"
   ],
   "outputs": [],
   "execution_count": 4
  }
 ],
 "metadata": {
  "kernelspec": {
   "display_name": "MoneyTime",
   "language": "python",
   "name": "python3"
  },
  "language_info": {
   "codemirror_mode": {
    "name": "ipython",
    "version": 3
   },
   "file_extension": ".py",
   "mimetype": "text/x-python",
   "name": "python",
   "nbconvert_exporter": "python",
   "pygments_lexer": "ipython3",
   "version": "3.11.4"
  }
 },
 "nbformat": 4,
 "nbformat_minor": 5
}
