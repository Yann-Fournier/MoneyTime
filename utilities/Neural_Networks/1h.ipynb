{
 "cells": [
  {
   "cell_type": "code",
   "execution_count": null,
   "id": "38ffec4a",
   "metadata": {},
   "outputs": [],
   "source": [
    "import gc # garbage collector\n",
    "import pandas as pd\n",
    "import numpy as np\n",
    "import seaborn as sns\n",
    "from tqdm import tqdm # progress bar\n",
    "import tensorflow as tf \n",
    "from tensorflow import keras\n",
    "import matplotlib.pyplot as plt\n",
    "from pymongo import MongoClient\n",
    "from sklearn.preprocessing import LabelEncoder"
   ]
  },
  {
   "cell_type": "code",
   "execution_count": null,
   "id": "b29858c5",
   "metadata": {},
   "outputs": [],
   "source": [
    "SYMBOLE = 'BTC'\n",
    "TIMEFRAME = '1h'\n",
    "\n",
    "BATCH_SIZE = 256\n",
    "EPOCHS = 10\n",
    "ADD_NOM = \"\" + str(BATCH_SIZE) + \"_e\" + str(EPOCHS)"
   ]
  }
 ],
 "metadata": {
  "kernelspec": {
   "display_name": "MoneyTime",
   "language": "python",
   "name": "python3"
  },
  "language_info": {
   "name": "python",
   "version": "3.11.4"
  }
 },
 "nbformat": 4,
 "nbformat_minor": 5
}
