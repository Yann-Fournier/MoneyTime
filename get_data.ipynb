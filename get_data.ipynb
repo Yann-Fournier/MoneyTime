{
 "cells": [
  {
   "cell_type": "code",
   "execution_count": null,
   "id": "8c158acb",
   "metadata": {},
   "outputs": [],
   "source": [
    "import sys\n",
    "sys.path.append('./')\n",
    "from utilities.get_data import ExchangeDataManager\n",
    "import pandas as pd"
   ]
  },
  {
   "cell_type": "markdown",
   "id": "0cc84fff",
   "metadata": {},
   "source": [
    "# Téléchargement de l'historique des données dans des CSV"
   ]
  },
  {
   "cell_type": "code",
   "execution_count": null,
   "id": "0bd196fd",
   "metadata": {},
   "outputs": [],
   "source": [
    "# exchange_name = \"bitget\"\n",
    "exchange_name = \"binance\"\n",
    "\n",
    "intervals = [\"30m\", \"1h\", \"2h\", \"4h\", \"12h\", \"1d\", \"1w\"]\n",
    "\n",
    "coin_to_dl = [\n",
    "    \"BTC/USDT:USDT\",\n",
    "    \"ETH/USDT:USDT\",\n",
    "    \"SOL/USDT:USDT\"\n",
    "]\n",
    "\n",
    "exchange = ExchangeDataManager(\n",
    "    exchange_name=exchange_name, \n",
    "    path_download=\"./database\"\n",
    ")\n",
    "\n",
    "await exchange.download_data(\n",
    "    coins=coin_to_dl,\n",
    "    intervals=intervals,\n",
    ")"
   ]
  },
  {
   "cell_type": "code",
   "execution_count": null,
   "id": "766d8c13",
   "metadata": {},
   "outputs": [],
   "source": [
    "df = exchange.load_data(\n",
    "    coin=\"BTC/USDT:USDT\", \n",
    "    interval=\"1h\"\n",
    ")\n",
    "\n",
    "df"
   ]
  },
  {
   "cell_type": "code",
   "execution_count": null,
   "id": "6541e3e3",
   "metadata": {},
   "outputs": [],
   "source": [
    "exchange.explore_data()"
   ]
  }
 ],
 "metadata": {
  "kernelspec": {
   "display_name": "MoneyTime",
   "language": "python",
   "name": "python3"
  },
  "language_info": {
   "name": "python",
   "version": "3.11.4"
  }
 },
 "nbformat": 4,
 "nbformat_minor": 5
}
